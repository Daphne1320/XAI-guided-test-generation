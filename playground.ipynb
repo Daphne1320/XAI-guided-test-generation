{
 "cells": [
  {
   "cell_type": "code",
   "execution_count": 1,
   "id": "811f95eb-15dc-4efb-b14e-fb72b6656876",
   "metadata": {},
   "outputs": [
    {
     "name": "stdout",
     "output_type": "stream",
     "text": [
      "Python 3.9.0\n"
     ]
    }
   ],
   "source": [
    "!python -V"
   ]
  },
  {
   "cell_type": "code",
   "execution_count": 4,
   "id": "e4b76a0f-33cc-4a4c-b44c-5a807abaef5f",
   "metadata": {},
   "outputs": [],
   "source": [
    "from compare import *\n",
    "from lava_generator import *\n",
    "from xai import latent_space_display_mark"
   ]
  },
  {
   "cell_type": "code",
   "execution_count": 14,
   "id": "6463d2bc-fca3-4a85-9838-ece90d39efbb",
   "metadata": {},
   "outputs": [
    {
     "name": "stdout",
     "output_type": "stream",
     "text": [
      "WARNING:tensorflow:No training configuration found in the save file, so the model was *not* compiled. Compile it manually.\n",
      "WARNING:tensorflow:No training configuration found in the save file, so the model was *not* compiled. Compile it manually.\n",
      "7/7 [==============================] - 0s 2ms/step\n"
     ]
    }
   ],
   "source": [
    "vae = VAE.load(\"trained_models/VAE\")\n",
    "cnn = load_model(\"trained_models/CNN/classifier.h5\")\n",
    "xai = xai_model(vae.decoder, cnn, input_shape=(12,))\n",
    "\n",
    "# input images\n",
    "# samples_test, sample_labels_test = load_samples_for_test_folder(img_dir='./contrib/DLFuzz/MNIST/seeds_50')\n",
    "samples_test, sample_labels_test = load_samples_for_test(200)\n",
    "\n",
    "# prepare\n",
    "view_samples = samples_test\n",
    "view_sample_labels = sample_labels_test\n",
    "# view_samples = samples\n",
    "# view_sample_labels = sample_labels\n",
    "\n",
    "x_view = np.reshape(view_samples, (-1, 784))\n",
    "y_view_onehot = tf.one_hot(tf.constant(view_sample_labels), depth=10).numpy()\n",
    "h_view = vae.encoder.predict(x_view)\n",
    "\n",
    "K.set_learning_phase(0)\n",
    "dlfuzz = DLFuzz(cnn)"
   ]
  },
  {
   "cell_type": "code",
   "execution_count": 15,
   "id": "2e1fdf53-4899-40f8-a7a6-4494c6979393",
   "metadata": {},
   "outputs": [],
   "source": [
    "def generate_adversarial_with_gradient_descent(h_view, label, alpha, num_iterations):\n",
    "    # h_view: latent space\n",
    "    # load models\n",
    "    vae = VAE.load(\"trained_models/VAE\")\n",
    "    cnn = load_model(\"trained_models/CNN/classifier.h5\")\n",
    "    xai = xai_model(vae.decoder, cnn, input_shape=(12,))\n",
    "\n",
    "    # prepare data\n",
    "    x = np.array([h_view])\n",
    "    y = np.array([label])\n",
    "\n",
    "    # Adversarial example generation\n",
    "    for iteration in range(num_iterations):\n",
    "        gradient = gradient_of_x(x, y, xai)  # Compute gradient\n",
    "        x_tmp = x + alpha * gradient  # Update the encoded image with the gradient\n",
    "        decoded_image = vae.decoder.predict(x_tmp).reshape((28, 28, 1))  # Decode the perturbed image\n",
    "\n",
    "        # Check if the decoded image is misclassified by the CNN\n",
    "        prediction = cnn.predict(np.array([decoded_image]))[0]\n",
    "        predicted_label = np.argmax(prediction)\n",
    "\n",
    "        if predicted_label != np.argmax(y):\n",
    "            # step back and try finer alpha\n",
    "            inner_alpha = alpha / num_iterations\n",
    "            for inner_iteration in range(num_iterations):\n",
    "                gradient = gradient_of_x(x, y, xai)  # Compute gradient\n",
    "                inner_x_tmp = x + inner_alpha * gradient  # Update the encoded image with the gradient\n",
    "                decoded_image = vae.decoder.predict(inner_x_tmp).reshape((28, 28, 1))  # Decode the perturbed image\n",
    "\n",
    "                # Check if the decoded image is misclassified by the CNN\n",
    "                prediction = cnn.predict(np.array([decoded_image]))[0]\n",
    "                predicted_label = np.argmax(prediction)\n",
    "\n",
    "                if predicted_label != np.argmax(y):\n",
    "                    print(f\"Misclassification achieved at iteration {iteration},  inner iteration {inner_iteration}\")\n",
    "                    break\n",
    "                x = inner_x_tmp\n",
    "\n",
    "        if predicted_label != np.argmax(y):\n",
    "            break\n",
    "        x = x_tmp;\n",
    "    return [decoded_image, predicted_label]\n"
   ]
  },
  {
   "cell_type": "code",
   "execution_count": 16,
   "id": "9f02976c-e227-4505-9968-78c6251a7186",
   "metadata": {
    "scrolled": true
   },
   "outputs": [
    {
     "name": "stdout",
     "output_type": "stream",
     "text": [
      "WARNING:tensorflow:No training configuration found in the save file, so the model was *not* compiled. Compile it manually.\n",
      "WARNING:tensorflow:No training configuration found in the save file, so the model was *not* compiled. Compile it manually.\n",
      "1/1 [==============================] - 0s 55ms/step\n",
      "WARNING:tensorflow:5 out of the last 209 calls to <function Model.make_predict_function.<locals>.predict_function at 0x7fa35e854430> triggered tf.function retracing. Tracing is expensive and the excessive number of tracings could be due to (1) creating @tf.function repeatedly in a loop, (2) passing tensors with different shapes, (3) passing Python objects instead of tensors. For (1), please define your @tf.function outside of the loop. For (2), @tf.function has reduce_retracing=True option that can avoid unnecessary retracing. For (3), please refer to https://www.tensorflow.org/guide/function#controlling_retracing and https://www.tensorflow.org/api_docs/python/tf/function for  more details.\n",
      "1/1 [==============================] - 0s 94ms/step\n",
      "1/1 [==============================] - 0s 21ms/step\n",
      "1/1 [==============================] - 0s 22ms/step\n",
      "Misclassification achieved at iteration 0,  inner iteration 0\n",
      "1/1 [==============================] - 0s 58ms/step\n"
     ]
    },
    {
     "data": {
      "image/png": "[encoded data removed]",
      "text/plain": [
       "<Figure size 1500x500 with 3 Axes>"
      ]
     },
     "metadata": {},
     "output_type": "display_data"
    }
   ],
   "source": [
    "# calculate latent variant image\n",
    "i = 4\n",
    "\n",
    "image_org = np.array([view_samples[i]], dtype=\"float32\")\n",
    "label_org = view_sample_labels[i]\n",
    "\n",
    "x = np.array([h_view[i]])\n",
    "y = np.array([y_view_onehot[i]])\n",
    "\n",
    "# Compute initial gradient\n",
    "g = gradient_of_x(x, y, xai)\n",
    "\n",
    "g_npy = np.squeeze(g.numpy())\n",
    "\n",
    "# Parameters for gradient descent\n",
    "alpha = 0.01  # Learning rate\n",
    "num_iterations = 100  # Number of iterations for gradient descent\n",
    "\n",
    "# Adversarial example generation\n",
    "[decoded_image, prediction] = generate_adversarial_with_gradient_descent(h_view[i], y_view_onehot[i], alpha, num_iterations)\n",
    "\n",
    "image_gen_lava = vae.decoder.predict(x)\n",
    "images = [image_org, decoded_image]\n",
    "titles = [f'image_org_{label_org}', f'image_gen_lava_{prediction}']\n",
    "plot_image_comparison(images, titles)"
   ]
  },
  {
   "cell_type": "code",
   "execution_count": null,
   "id": "51b837bc-13bc-49a2-af8e-0724e2b628b7",
   "metadata": {},
   "outputs": [],
   "source": []
  },
  {
   "cell_type": "code",
   "execution_count": null,
   "id": "6969485a-d1c3-4464-b0c7-732556bbe4aa",
   "metadata": {},
   "outputs": [],
   "source": []
  },
  {
   "cell_type": "code",
   "execution_count": null,
   "id": "5714e269-8292-4ce0-bf04-31bdf92e843c",
   "metadata": {},
   "outputs": [],
   "source": []
  },
  {
   "cell_type": "code",
   "execution_count": null,
   "id": "120377d1-67af-41b5-ae21-eb07cb6a2885",
   "metadata": {},
   "outputs": [],
   "source": []
  },
  {
   "cell_type": "code",
   "execution_count": null,
   "id": "371bce53-d4c6-434e-8607-5260f2ef2702",
   "metadata": {},
   "outputs": [],
   "source": []
  },
  {
   "cell_type": "code",
   "execution_count": null,
   "id": "1276901f-dd89-4630-8e51-38308db98348",
   "metadata": {},
   "outputs": [],
   "source": []
  },
  {
   "cell_type": "code",
   "execution_count": null,
   "id": "39ce6fb6-9100-48c6-bd56-58110a9bd36d",
   "metadata": {},
   "outputs": [],
   "source": []
  }
 ],
 "metadata": {
  "kernelspec": {
   "display_name": "Python bachelor",
   "language": "python",
   "name": "bachelor"
  },
  "language_info": {
   "codemirror_mode": {
    "name": "ipython",
    "version": 3
   },
   "file_extension": ".py",
   "mimetype": "text/x-python",
   "name": "python",
   "nbconvert_exporter": "python",
   "pygments_lexer": "ipython3",
   "version": "3.9.18"
  }
 },
 "nbformat": 4,
 "nbformat_minor": 5
}
