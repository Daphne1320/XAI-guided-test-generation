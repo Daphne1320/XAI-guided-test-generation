{
 "cells": [
  {
   "cell_type": "code",
   "execution_count": 1,
   "id": "ef19d35f",
   "metadata": {
    "scrolled": false
   },
   "outputs": [
    {
     "name": "stderr",
     "output_type": "stream",
     "text": [
      "<frozen importlib._bootstrap>:228: RuntimeWarning: scipy._lib.messagestream.MessageStream size changed, may indicate binary incompatibility. Expected 56 from C header, got 64 from PyObject\n"
     ]
    }
   ],
   "source": [
    "from compare_adversarial_lava import *"
   ]
  },
  {
   "cell_type": "code",
   "execution_count": 4,
   "id": "c5721ed0",
   "metadata": {
    "collapsed": true
   },
   "outputs": [
    {
     "name": "stderr",
     "output_type": "stream",
     "text": [
      "2024-06-18 13:51:07.236387: I tensorflow/compiler/jit/xla_cpu_device.cc:41] Not creating XLA devices, tf_xla_enable_xla_devices not set\n",
      "2024-06-18 13:51:07.236592: I tensorflow/core/platform/cpu_feature_guard.cc:142] This TensorFlow binary is optimized with oneAPI Deep Neural Network Library (oneDNN) to use the following CPU instructions in performance-critical operations:  SSE4.1 SSE4.2 AVX AVX2 FMA\n",
      "To enable them in other operations, rebuild TensorFlow with the appropriate compiler flags.\n",
      "2024-06-18 13:51:07.237749: I tensorflow/core/common_runtime/process_util.cc:146] Creating new thread pool with default inter op setting: 2. Tune using inter_op_parallelism_threads for best performance.\n"
     ]
    },
    {
     "name": "stdout",
     "output_type": "stream",
     "text": [
      "WARNING:tensorflow:No training configuration found in the save file, so the model was *not* compiled. Compile it manually.\n",
      "WARNING:tensorflow:No training configuration found in the save file, so the model was *not* compiled. Compile it manually.\n",
      "WARNING:tensorflow:No training configuration found in the save file, so the model was *not* compiled. Compile it manually.\n",
      "WARNING:tensorflow:No training configuration found in the save file, so the model was *not* compiled. Compile it manually.\n",
      "WARNING:tensorflow:No training configuration found in the save file, so the model was *not* compiled. Compile it manually.\n",
      "WARNING:tensorflow:No training configuration found in the save file, so the model was *not* compiled. Compile it manually.\n",
      "WARNING:tensorflow:Model was constructed with shape (None, 12) for input KerasTensor(type_spec=TensorSpec(shape=(None, 12), dtype=tf.float32, name='dense_3_input'), name='dense_3_input', description=\"created by layer 'dense_3_input'\"), but it was called on an input with incompatible shape (None, None, 12).\n",
      "WARNING:tensorflow:Model was constructed with shape (None, 12) for input KerasTensor(type_spec=TensorSpec(shape=(None, 12), dtype=tf.float32, name='dense_3_input'), name='dense_3_input', description=\"created by layer 'dense_3_input'\"), but it was called on an input with incompatible shape (None, None, 12).\n",
      "WARNING:tensorflow:Model was constructed with shape (None, 64) for input KerasTensor(type_spec=TensorSpec(shape=(None, 64), dtype=tf.float32, name='dense_12_input'), name='dense_12_input', description=\"created by layer 'dense_12_input'\"), but it was called on an input with incompatible shape (None, None, 64).\n",
      "WARNING:tensorflow:Model was constructed with shape (None, 64) for input KerasTensor(type_spec=TensorSpec(shape=(None, 64), dtype=tf.float32, name='dense_12_input'), name='dense_12_input', description=\"created by layer 'dense_12_input'\"), but it was called on an input with incompatible shape (None, None, 64).\n"
     ]
    }
   ],
   "source": [
    "cnn = load_model(\"trained_models/classifier.h5\")\n",
    "# input shape: (28, 28, 1)\n",
    "\n",
    "# Load models\n",
    "cnn = load_model(\"trained_models/classifier.h5\")\n",
    "vae = VAE.load(\"trained_models\")\n",
    "cae = CAE.load(\"trained_models\")\n",
    "cvae = C_VAE.load(\"trained_models\", model_name=\"cvae2\")\n",
    "\n",
    "models = [vae, cae, cvae]\n",
    "adversarial_methods = [\"vanilla_gradient\", \"gradient\"] # ,\"saliency\"]\n",
    "\n",
    "# Create LavaMultiSteps instances\n",
    "lava_instances = {}\n",
    "for model, prefix in zip(models, [\"vae\", \"cae\" ]):# ,\"cvae\"]):\n",
    "    for method in adversarial_methods:\n",
    "        key = f\"lavam_{prefix}_{method[0]}\"\n",
    "        lava_instances[key] = LavaMultiSteps(cnn, model.encoder, model.decoder, \n",
    "                                             adversarial_method=method,\n",
    "                                             verbose=True)\n",
    "\n",
    "# Load input images\n",
    "samples, sample_labels, sample_indices = load_samples_for_test(100, return_indices=True)\n",
    "y_onehot = tf.one_hot(tf.constant(sample_labels), depth=10).numpy()\n"
   ]
  },
  {
   "cell_type": "code",
   "execution_count": 5,
   "id": "e392a643",
   "metadata": {},
   "outputs": [
    {
     "name": "stderr",
     "output_type": "stream",
     "text": [
      "/home/congyu/anaconda3/envs/congyutf/lib/python3.9/site-packages/tensorflow/python/keras/backend.py:434: UserWarning: `tf.keras.backend.set_learning_phase` is deprecated and will be removed after 2020-10-11. To update it, simply pass a True/False value to the `training` argument of the `__call__` method of your layer or model.\n",
      "  warnings.warn('`tf.keras.backend.set_learning_phase` is deprecated and '\n",
      "samples:   0%|          | 0/100 [00:00<?, ?it/s]\n",
      "lavam methods:   0%|          | 0/4 [00:00<?, ?it/s]\u001b[A2024-06-18 13:51:08.888719: I tensorflow/compiler/mlir/mlir_graph_optimization_pass.cc:116] None of the MLIR optimization passes are enabled (registered 2)\n",
      "2024-06-18 13:51:08.905904: I tensorflow/core/platform/profile_utils/cpu_utils.cc:112] CPU Frequency: 2299965000 Hz\n",
      "\n",
      "lavam methods:  25%|██▌       | 1/4 [00:01<00:05,  1.83s/it]\u001b[A"
     ]
    },
    {
     "name": "stdout",
     "output_type": "stream",
     "text": [
      "Misclassification achieved at iteration 1, inner iteration 1\n"
     ]
    },
    {
     "name": "stderr",
     "output_type": "stream",
     "text": [
      "\n",
      "lavam methods:  50%|█████     | 2/4 [00:02<00:03,  1.61s/it]\u001b[A"
     ]
    },
    {
     "name": "stdout",
     "output_type": "stream",
     "text": [
      "Misclassification achieved at iteration 1, inner iteration 2\n"
     ]
    },
    {
     "name": "stderr",
     "output_type": "stream",
     "text": [
      "\n",
      "lavam methods:  75%|███████▌  | 3/4 [00:09<00:02,  2.98s/it]\u001b[A\n",
      "lavam methods: 100%|██████████| 4/4 [00:10<00:00,  2.56s/it]\u001b[A\n",
      "samples:   1%|          | 1/100 [00:10<17:25, 10.56s/it]\n",
      "lavam methods:   0%|          | 0/4 [00:00<?, ?it/s]\u001b[A\n",
      "lavam methods:  25%|██▌       | 1/4 [00:01<00:04,  1.61s/it]\u001b[A\n",
      "lavam methods:  50%|█████     | 2/4 [00:02<00:02,  1.49s/it]\u001b[A\n",
      "lavam methods:  75%|███████▌  | 3/4 [00:09<00:02,  2.90s/it]\u001b[A\n",
      "lavam methods: 100%|██████████| 4/4 [00:10<00:00,  2.65s/it]\u001b[A\n",
      "samples:   2%|▏         | 2/100 [00:21<17:27, 10.69s/it]\n",
      "lavam methods:   0%|          | 0/4 [00:00<?, ?it/s]\u001b[A\n",
      "lavam methods:  25%|██▌       | 1/4 [00:02<00:07,  2.61s/it]\u001b[A"
     ]
    },
    {
     "name": "stdout",
     "output_type": "stream",
     "text": [
      "Misclassification achieved at iteration 3, inner iteration 1\n"
     ]
    },
    {
     "name": "stderr",
     "output_type": "stream",
     "text": [
      "\n",
      "lavam methods:  50%|█████     | 2/4 [00:04<00:04,  2.35s/it]\u001b[A"
     ]
    },
    {
     "name": "stdout",
     "output_type": "stream",
     "text": [
      "Misclassification achieved at iteration 3, inner iteration 1\n"
     ]
    },
    {
     "name": "stderr",
     "output_type": "stream",
     "text": [
      "\n",
      "lavam methods:  75%|███████▌  | 3/4 [00:12<00:04,  4.11s/it]\u001b[A\n",
      "lavam methods: 100%|██████████| 4/4 [00:14<00:00,  3.54s/it]\u001b[A\n",
      "samples:   3%|▎         | 3/100 [00:36<19:10, 11.86s/it]\n",
      "lavam methods:   0%|          | 0/4 [00:00<?, ?it/s]\u001b[A\n",
      "lavam methods:  25%|██▌       | 1/4 [00:02<00:06,  2.17s/it]\u001b[A"
     ]
    },
    {
     "name": "stdout",
     "output_type": "stream",
     "text": [
      "Misclassification achieved at iteration 1, inner iteration 2\n"
     ]
    },
    {
     "name": "stderr",
     "output_type": "stream",
     "text": [
      "\n",
      "lavam methods:  50%|█████     | 2/4 [00:03<00:03,  1.80s/it]\u001b[A"
     ]
    },
    {
     "name": "stdout",
     "output_type": "stream",
     "text": [
      "Misclassification achieved at iteration 1, inner iteration 1\n"
     ]
    },
    {
     "name": "stderr",
     "output_type": "stream",
     "text": [
      "\n",
      "lavam methods:  75%|███████▌  | 3/4 [00:10<00:03,  3.54s/it]\u001b[A\n",
      "lavam methods: 100%|██████████| 4/4 [00:12<00:00,  3.02s/it]\u001b[A\n",
      "samples:   4%|▍         | 4/100 [00:48<19:15, 12.04s/it]\n",
      "lavam methods:   0%|          | 0/4 [00:00<?, ?it/s]\u001b[A\n",
      "lavam methods:  25%|██▌       | 1/4 [00:02<00:06,  2.28s/it]\u001b[A\n",
      "lavam methods:  50%|█████     | 2/4 [00:03<00:04,  2.05s/it]\u001b[A\n",
      "lavam methods:  75%|███████▌  | 3/4 [00:10<00:03,  3.57s/it]\u001b[A\n",
      "lavam methods: 100%|██████████| 4/4 [00:12<00:00,  3.07s/it]\u001b[A\n",
      "samples:   5%|▌         | 5/100 [01:01<19:25, 12.26s/it]\n",
      "lavam methods:   0%|          | 0/4 [00:00<?, ?it/s]\u001b[A\n",
      "lavam methods:  25%|██▌       | 1/4 [00:04<00:13,  4.38s/it]\u001b[A"
     ]
    },
    {
     "name": "stdout",
     "output_type": "stream",
     "text": [
      "Misclassification achieved at iteration 4, inner iteration 4\n"
     ]
    },
    {
     "name": "stderr",
     "output_type": "stream",
     "text": [
      "\n",
      "lavam methods:  50%|█████     | 2/4 [00:06<00:07,  3.56s/it]\u001b[A"
     ]
    },
    {
     "name": "stdout",
     "output_type": "stream",
     "text": [
      "Misclassification achieved at iteration 4, inner iteration 0\n"
     ]
    },
    {
     "name": "stderr",
     "output_type": "stream",
     "text": [
      "\n",
      "lavam methods:  75%|███████▌  | 3/4 [00:13<00:04,  4.62s/it]\u001b[A\n",
      "lavam methods: 100%|██████████| 4/4 [00:14<00:00,  3.64s/it]\u001b[A\n",
      "samples:   6%|▌         | 6/100 [01:16<20:34, 13.13s/it]\n",
      "lavam methods:   0%|          | 0/4 [00:00<?, ?it/s]\u001b[A\n",
      "lavam methods:  25%|██▌       | 1/4 [00:04<00:14,  4.92s/it]\u001b[A"
     ]
    },
    {
     "name": "stdout",
     "output_type": "stream",
     "text": [
      "Misclassification achieved at iteration 4, inner iteration 2\n"
     ]
    },
    {
     "name": "stderr",
     "output_type": "stream",
     "text": [
      "\n",
      "lavam methods:  50%|█████     | 2/4 [00:07<00:08,  4.07s/it]\u001b[A"
     ]
    },
    {
     "name": "stdout",
     "output_type": "stream",
     "text": [
      "Misclassification achieved at iteration 4, inner iteration 0\n"
     ]
    },
    {
     "name": "stderr",
     "output_type": "stream",
     "text": [
      "\n",
      "lavam methods:  75%|███████▌  | 3/4 [00:14<00:05,  5.14s/it]\u001b[A\n",
      "lavam methods: 100%|██████████| 4/4 [00:15<00:00,  3.97s/it]\u001b[A\n",
      "samples:   7%|▋         | 7/100 [01:32<21:49, 14.08s/it]\n",
      "lavam methods:   0%|          | 0/4 [00:00<?, ?it/s]\u001b[A\n",
      "lavam methods:  25%|██▌       | 1/4 [00:01<00:05,  1.72s/it]\u001b[A"
     ]
    },
    {
     "name": "stdout",
     "output_type": "stream",
     "text": [
      "Misclassification achieved at iteration 1, inner iteration 1\n"
     ]
    },
    {
     "name": "stderr",
     "output_type": "stream",
     "text": [
      "\n",
      "lavam methods:  50%|█████     | 2/4 [00:02<00:02,  1.48s/it]\u001b[A"
     ]
    },
    {
     "name": "stdout",
     "output_type": "stream",
     "text": [
      "Misclassification achieved at iteration 1, inner iteration 1\n"
     ]
    },
    {
     "name": "stderr",
     "output_type": "stream",
     "text": [
      "\n",
      "lavam methods:  75%|███████▌  | 3/4 [00:09<00:03,  3.20s/it]\u001b[A\n",
      "lavam methods: 100%|██████████| 4/4 [00:11<00:00,  2.76s/it]\u001b[A\n",
      "samples:   8%|▊         | 8/100 [01:44<20:22, 13.29s/it]\n",
      "lavam methods:   0%|          | 0/4 [00:00<?, ?it/s]\u001b[A\n",
      "lavam methods:  25%|██▌       | 1/4 [00:02<00:06,  2.33s/it]\u001b[A\n",
      "lavam methods:  50%|█████     | 2/4 [00:03<00:04,  2.02s/it]\u001b[A\n",
      "lavam methods:  75%|███████▌  | 3/4 [00:10<00:03,  3.55s/it]\u001b[A\n",
      "lavam methods: 100%|██████████| 4/4 [00:12<00:00,  3.06s/it]\u001b[A\n",
      "samples:   9%|▉         | 9/100 [01:56<19:51, 13.09s/it]\n",
      "lavam methods:   0%|          | 0/4 [00:00<?, ?it/s]\u001b[A\n",
      "lavam methods:  25%|██▌       | 1/4 [00:02<00:07,  2.51s/it]\u001b[A"
     ]
    },
    {
     "name": "stdout",
     "output_type": "stream",
     "text": [
      "Misclassification achieved at iteration 2, inner iteration 1\n"
     ]
    },
    {
     "name": "stderr",
     "output_type": "stream",
     "text": [
      "\n",
      "lavam methods:  50%|█████     | 2/4 [00:03<00:04,  2.18s/it]\u001b[A"
     ]
    },
    {
     "name": "stdout",
     "output_type": "stream",
     "text": [
      "Misclassification achieved at iteration 2, inner iteration 0\n"
     ]
    },
    {
     "name": "stderr",
     "output_type": "stream",
     "text": [
      "\n",
      "lavam methods:  75%|███████▌  | 3/4 [00:12<00:04,  4.21s/it]\u001b[A\n",
      "lavam methods: 100%|██████████| 4/4 [00:14<00:00,  3.56s/it]\u001b[A\n",
      "samples:  10%|█         | 10/100 [02:11<20:20, 13.56s/it]\n",
      "lavam methods:   0%|          | 0/4 [00:00<?, ?it/s]\u001b[A\n",
      "lavam methods:  25%|██▌       | 1/4 [00:02<00:06,  2.27s/it]\u001b[A"
     ]
    },
    {
     "name": "stdout",
     "output_type": "stream",
     "text": [
      "Misclassification achieved at iteration 0, inner iteration 3\n"
     ]
    },
    {
     "name": "stderr",
     "output_type": "stream",
     "text": [
      "\n",
      "lavam methods:  50%|█████     | 2/4 [00:03<00:03,  1.86s/it]\u001b[A"
     ]
    },
    {
     "name": "stdout",
     "output_type": "stream",
     "text": [
      "Misclassification achieved at iteration 0, inner iteration 2\n"
     ]
    },
    {
     "name": "stderr",
     "output_type": "stream",
     "text": [
      "\n",
      "lavam methods:  75%|███████▌  | 3/4 [00:11<00:03,  3.72s/it]\u001b[A"
     ]
    },
    {
     "name": "stdout",
     "output_type": "stream",
     "text": [
      "Misclassification achieved at iteration 3, inner iteration 0\n"
     ]
    },
    {
     "name": "stderr",
     "output_type": "stream",
     "text": [
      "\n",
      "lavam methods: 100%|██████████| 4/4 [00:13<00:00,  3.25s/it]\u001b[A"
     ]
    },
    {
     "name": "stdout",
     "output_type": "stream",
     "text": [
      "Misclassification achieved at iteration 3, inner iteration 1\n"
     ]
    },
    {
     "name": "stderr",
     "output_type": "stream",
     "text": [
      "\n"
     ]
    },
    {
     "data": {
      "image/png": "[encoded data removed]",
      "text/plain": [
       "<Figure size 1500x500 with 5 Axes>"
      ]
     },
     "metadata": {},
     "output_type": "display_data"
    },
    {
     "name": "stderr",
     "output_type": "stream",
     "text": [
      "samples:  11%|█         | 11/100 [02:25<20:18, 13.69s/it]\n",
      "lavam methods:   0%|          | 0/4 [00:00<?, ?it/s]\u001b[A"
     ]
    },
    {
     "name": "stdout",
     "output_type": "stream",
     "text": [
      "kl_lavam_vae_v: 7.759322190595616\n",
      "kl_lavam_vae_g: 0.12421518059803582\n",
      "kl_lavam_cae_v: 0.10642615269978146\n",
      "kl_lavam_cae_g: 0.09865438921411858\n",
      "----------------------------------------------------------------\n",
      "ws_lavam_vae_v: 0.00026392455264502633\n",
      "ws_lavam_vae_g: 0.00017642097920671725\n",
      "ws_lavam_cae_v: 7.649328159454385e-05\n",
      "ws_lavam_cae_g: 9.372890237580045e-05\n",
      "----------------------------------------------------------------\n",
      "js_lavam_vae_v: 4.069981804516519\n",
      "js_lavam_vae_g: 0.0843857233176653\n",
      "js_lavam_cae_v: 0.08406466367491446\n",
      "js_lavam_cae_g: 0.07691041788055274\n",
      "----------------------------------------------------------------\n",
      "mse_lavam_vae_v: 0.10977712149151819\n",
      "mse_lavam_vae_g: 0.00882440802486597\n",
      "mse_lavam_cae_v: 0.0062826899201740664\n",
      "mse_lavam_cae_g: 0.005930749449857611\n",
      "----------------------------------------------------------------\n"
     ]
    },
    {
     "name": "stderr",
     "output_type": "stream",
     "text": [
      "\n",
      "lavam methods:  25%|██▌       | 1/4 [00:01<00:03,  1.03s/it]\u001b[A"
     ]
    },
    {
     "name": "stdout",
     "output_type": "stream",
     "text": [
      "Misclassification achieved at iteration 0, inner iteration 0\n"
     ]
    },
    {
     "name": "stderr",
     "output_type": "stream",
     "text": [
      "\n",
      "lavam methods:  50%|█████     | 2/4 [00:01<00:01,  1.10it/s]\u001b[A"
     ]
    },
    {
     "name": "stdout",
     "output_type": "stream",
     "text": [
      "Misclassification achieved at iteration 0, inner iteration 0\n"
     ]
    },
    {
     "name": "stderr",
     "output_type": "stream",
     "text": [
      "\n",
      "lavam methods:  75%|███████▌  | 3/4 [00:08<00:02,  2.81s/it]\u001b[A\n",
      "lavam methods: 100%|██████████| 4/4 [00:10<00:00,  2.56s/it]\u001b[A\n",
      "samples:  12%|█▏        | 12/100 [02:36<18:44, 12.78s/it]\n",
      "lavam methods:   0%|          | 0/4 [00:00<?, ?it/s]\u001b[A\n",
      "lavam methods:  25%|██▌       | 1/4 [00:02<00:06,  2.00s/it]\u001b[A\n",
      "lavam methods:  50%|█████     | 2/4 [00:03<00:03,  1.79s/it]\u001b[A\n",
      "lavam methods:  75%|███████▌  | 3/4 [00:10<00:03,  3.43s/it]\u001b[A\n",
      "lavam methods: 100%|██████████| 4/4 [00:12<00:00,  3.02s/it]\u001b[A\n",
      "samples:  13%|█▎        | 13/100 [02:48<18:23, 12.68s/it]\n",
      "lavam methods:   0%|          | 0/4 [00:00<?, ?it/s]\u001b[A\n",
      "lavam methods:  25%|██▌       | 1/4 [00:01<00:05,  1.97s/it]\u001b[A\n",
      "lavam methods:  50%|█████     | 2/4 [00:03<00:03,  1.80s/it]\u001b[A\n",
      "lavam methods:  75%|███████▌  | 3/4 [00:10<00:03,  3.47s/it]\u001b[A\n",
      "lavam methods: 100%|██████████| 4/4 [00:12<00:00,  3.06s/it]\u001b[A\n",
      "samples:  14%|█▍        | 14/100 [03:01<18:08, 12.65s/it]\n",
      "lavam methods:   0%|          | 0/4 [00:00<?, ?it/s]\u001b[A\n",
      "lavam methods:  25%|██▌       | 1/4 [00:02<00:07,  2.50s/it]\u001b[A\n",
      "lavam methods:  50%|█████     | 2/4 [00:03<00:04,  2.10s/it]\u001b[A\n",
      "lavam methods:  75%|███████▌  | 3/4 [00:11<00:03,  3.83s/it]\u001b[A\n",
      "lavam methods: 100%|██████████| 4/4 [00:12<00:00,  3.21s/it]\u001b[A\n",
      "samples:  15%|█▌        | 15/100 [03:14<18:09, 12.81s/it]\n",
      "lavam methods:   0%|          | 0/4 [00:00<?, ?it/s]\u001b[A\n",
      "lavam methods:  25%|██▌       | 1/4 [00:02<00:06,  2.17s/it]\u001b[A\n",
      "lavam methods:  50%|█████     | 2/4 [00:03<00:03,  1.87s/it]\u001b[A\n",
      "lavam methods:  75%|███████▌  | 3/4 [00:10<00:03,  3.50s/it]\u001b[A\n",
      "lavam methods: 100%|██████████| 4/4 [00:12<00:00,  3.04s/it]\u001b[A\n",
      "samples:  16%|█▌        | 16/100 [03:26<17:47, 12.71s/it]\n",
      "lavam methods:   0%|          | 0/4 [00:00<?, ?it/s]\u001b[A\n",
      "lavam methods:  25%|██▌       | 1/4 [00:02<00:06,  2.19s/it]\u001b[A\n",
      "lavam methods:  50%|█████     | 2/4 [00:03<00:03,  1.90s/it]\u001b[A\n",
      "lavam methods:  75%|███████▌  | 3/4 [00:11<00:03,  3.81s/it]\u001b[A\n",
      "lavam methods: 100%|██████████| 4/4 [00:13<00:00,  3.29s/it]\u001b[A\n",
      "samples:  17%|█▋        | 17/100 [03:40<17:55, 12.96s/it]\n",
      "lavam methods:   0%|          | 0/4 [00:00<?, ?it/s]\u001b[A\n",
      "lavam methods:  25%|██▌       | 1/4 [00:02<00:06,  2.31s/it]\u001b[A\n",
      "lavam methods:  50%|█████     | 2/4 [00:04<00:04,  2.15s/it]\u001b[A"
     ]
    },
    {
     "name": "stdout",
     "output_type": "stream",
     "text": [
      "Misclassification achieved at iteration 4, inner iteration 1\n"
     ]
    },
    {
     "name": "stderr",
     "output_type": "stream",
     "text": [
      "\n",
      "lavam methods:  75%|███████▌  | 3/4 [00:11<00:03,  3.67s/it]\u001b[A\n",
      "lavam methods: 100%|██████████| 4/4 [00:12<00:00,  3.18s/it]\u001b[A\n",
      "samples:  18%|█▊        | 18/100 [03:53<17:48, 13.03s/it]\n",
      "lavam methods:   0%|          | 0/4 [00:00<?, ?it/s]\u001b[A\n",
      "lavam methods:  25%|██▌       | 1/4 [00:02<00:06,  2.03s/it]\u001b[A\n",
      "lavam methods:  50%|█████     | 2/4 [00:03<00:03,  1.97s/it]\u001b[A\n",
      "lavam methods:  75%|███████▌  | 3/4 [00:12<00:03,  3.98s/it]\u001b[A\n",
      "lavam methods: 100%|██████████| 4/4 [00:14<00:00,  3.60s/it]\u001b[A\n",
      "samples:  19%|█▉        | 19/100 [04:08<18:19, 13.57s/it]\n",
      "lavam methods:   0%|          | 0/4 [00:00<?, ?it/s]\u001b[A\n",
      "lavam methods:  25%|██▌       | 1/4 [00:04<00:12,  4.30s/it]\u001b[A"
     ]
    },
    {
     "name": "stdout",
     "output_type": "stream",
     "text": [
      "Misclassification achieved at iteration 2, inner iteration 0\n"
     ]
    },
    {
     "name": "stderr",
     "output_type": "stream",
     "text": [
      "\n",
      "lavam methods:  50%|█████     | 2/4 [00:05<00:06,  3.28s/it]\u001b[A"
     ]
    },
    {
     "name": "stdout",
     "output_type": "stream",
     "text": [
      "Misclassification achieved at iteration 1, inner iteration 0\n"
     ]
    },
    {
     "name": "stderr",
     "output_type": "stream",
     "text": [
      "\n",
      "lavam methods:  75%|███████▌  | 3/4 [00:13<00:04,  4.69s/it]\u001b[A\n",
      "lavam methods: 100%|██████████| 4/4 [00:14<00:00,  3.65s/it]\u001b[A\n",
      "samples:  20%|██        | 20/100 [04:23<18:38, 13.98s/it]\n",
      "lavam methods:   0%|          | 0/4 [00:00<?, ?it/s]\u001b[A\n",
      "lavam methods:  25%|██▌       | 1/4 [00:03<00:10,  3.42s/it]\u001b[A"
     ]
    },
    {
     "name": "stdout",
     "output_type": "stream",
     "text": [
      "Misclassification achieved at iteration 4, inner iteration 2\n"
     ]
    },
    {
     "name": "stderr",
     "output_type": "stream",
     "text": [
      "\n",
      "lavam methods:  50%|█████     | 2/4 [00:05<00:05,  2.90s/it]\u001b[A"
     ]
    },
    {
     "name": "stdout",
     "output_type": "stream",
     "text": [
      "Misclassification achieved at iteration 4, inner iteration 0\n"
     ]
    },
    {
     "name": "stderr",
     "output_type": "stream",
     "text": [
      "\n",
      "lavam methods:  75%|███████▌  | 3/4 [00:12<00:04,  4.24s/it]\u001b[A\n",
      "lavam methods: 100%|██████████| 4/4 [00:13<00:00,  3.40s/it]\u001b[A\n",
      "samples:  21%|██        | 21/100 [04:37<18:27, 14.01s/it]\n",
      "lavam methods:   0%|          | 0/4 [00:00<?, ?it/s]\u001b[A\n",
      "lavam methods:  25%|██▌       | 1/4 [00:02<00:07,  2.55s/it]\u001b[A\n",
      "lavam methods:  50%|█████     | 2/4 [00:04<00:04,  2.26s/it]\u001b[A\n",
      "lavam methods:  75%|███████▌  | 3/4 [00:11<00:03,  3.92s/it]\u001b[A\n",
      "lavam methods: 100%|██████████| 4/4 [00:13<00:00,  3.33s/it]\u001b[A\n",
      "samples:  22%|██▏       | 22/100 [04:51<18:06, 13.93s/it]\n",
      "lavam methods:   0%|          | 0/4 [00:00<?, ?it/s]\u001b[A\n",
      "lavam methods:  25%|██▌       | 1/4 [00:00<00:02,  1.14it/s]\u001b[A"
     ]
    },
    {
     "name": "stdout",
     "output_type": "stream",
     "text": [
      "Misclassification achieved at iteration 0, inner iteration 0\n"
     ]
    },
    {
     "name": "stderr",
     "output_type": "stream",
     "text": [
      "\n",
      "lavam methods:  50%|█████     | 2/4 [00:01<00:01,  1.27it/s]\u001b[A"
     ]
    },
    {
     "name": "stdout",
     "output_type": "stream",
     "text": [
      "Misclassification achieved at iteration 0, inner iteration 0\n"
     ]
    },
    {
     "name": "stderr",
     "output_type": "stream",
     "text": [
      "\n",
      "lavam methods:  75%|███████▌  | 3/4 [00:13<00:04,  4.13s/it]\u001b[A"
     ]
    },
    {
     "name": "stdout",
     "output_type": "stream",
     "text": [
      "Misclassification achieved at iteration 4, inner iteration 1\n"
     ]
    },
    {
     "name": "stderr",
     "output_type": "stream",
     "text": [
      "\n",
      "lavam methods: 100%|██████████| 4/4 [00:15<00:00,  3.81s/it]\u001b[A"
     ]
    },
    {
     "name": "stdout",
     "output_type": "stream",
     "text": [
      "Misclassification achieved at iteration 4, inner iteration 0\n"
     ]
    },
    {
     "name": "stderr",
     "output_type": "stream",
     "text": [
      "\n"
     ]
    },
    {
     "data": {
      "image/png": "[encoded data removed]",
      "text/plain": [
       "<Figure size 1500x500 with 5 Axes>"
      ]
     },
     "metadata": {},
     "output_type": "display_data"
    },
    {
     "name": "stderr",
     "output_type": "stream",
     "text": [
      "samples:  23%|██▎       | 23/100 [05:07<18:42, 14.58s/it]\n",
      "lavam methods:   0%|          | 0/4 [00:00<?, ?it/s]\u001b[A"
     ]
    },
    {
     "name": "stdout",
     "output_type": "stream",
     "text": [
      "kl_lavam_vae_v: 1.9486454459620381\n",
      "kl_lavam_vae_g: 1.0661177322500839\n",
      "kl_lavam_cae_v: 0.21037253627135621\n",
      "kl_lavam_cae_g: 0.19040773333650052\n",
      "----------------------------------------------------------------\n",
      "ws_lavam_vae_v: 0.0003731493869129244\n",
      "ws_lavam_vae_g: 0.0001335098274171779\n",
      "ws_lavam_cae_v: 0.00013464751281573703\n",
      "ws_lavam_cae_g: 0.00010128466718054395\n",
      "----------------------------------------------------------------\n",
      "js_lavam_vae_v: 1.1561638228515845\n",
      "js_lavam_vae_g: 0.691287928867\n",
      "js_lavam_cae_v: 0.1745369144565017\n",
      "js_lavam_cae_g: 0.15268644009886578\n",
      "----------------------------------------------------------------\n",
      "mse_lavam_vae_v: 0.14921653854985054\n",
      "mse_lavam_vae_g: 0.05193902273477456\n",
      "mse_lavam_cae_v: 0.019776508924240217\n",
      "mse_lavam_cae_g: 0.016622741582761186\n",
      "----------------------------------------------------------------\n"
     ]
    },
    {
     "name": "stderr",
     "output_type": "stream",
     "text": [
      "\n",
      "lavam methods:  25%|██▌       | 1/4 [00:02<00:06,  2.33s/it]\u001b[A\n",
      "lavam methods:  50%|█████     | 2/4 [00:03<00:04,  2.01s/it]\u001b[A\n",
      "lavam methods:  75%|███████▌  | 3/4 [00:11<00:03,  3.76s/it]\u001b[A\n",
      "lavam methods: 100%|██████████| 4/4 [00:12<00:00,  3.22s/it]\u001b[A\n",
      "samples:  24%|██▍       | 24/100 [05:20<18:01, 14.23s/it]\n",
      "lavam methods:   0%|          | 0/4 [00:00<?, ?it/s]\u001b[A\n",
      "lavam methods:  25%|██▌       | 1/4 [00:02<00:06,  2.24s/it]\u001b[A\n",
      "lavam methods:  50%|█████     | 2/4 [00:03<00:03,  1.98s/it]\u001b[A\n",
      "lavam methods:  75%|███████▌  | 3/4 [00:10<00:03,  3.57s/it]\u001b[A\n",
      "lavam methods: 100%|██████████| 4/4 [00:12<00:00,  3.08s/it]\u001b[A\n",
      "samples:  25%|██▌       | 25/100 [05:33<17:14, 13.79s/it]\n",
      "lavam methods:   0%|          | 0/4 [00:00<?, ?it/s]\u001b[A\n",
      "lavam methods:  25%|██▌       | 1/4 [00:02<00:06,  2.12s/it]\u001b[A\n",
      "lavam methods:  50%|█████     | 2/4 [00:03<00:03,  1.90s/it]\u001b[A\n",
      "lavam methods:  75%|███████▌  | 3/4 [00:10<00:03,  3.56s/it]\u001b[A\n",
      "lavam methods: 100%|██████████| 4/4 [00:12<00:00,  3.09s/it]\u001b[A\n",
      "samples:  26%|██▌       | 26/100 [05:46<16:38, 13.49s/it]\n",
      "lavam methods:   0%|          | 0/4 [00:00<?, ?it/s]\u001b[A\n",
      "lavam methods:  25%|██▌       | 1/4 [00:02<00:07,  2.35s/it]\u001b[A\n",
      "lavam methods:  50%|█████     | 2/4 [00:03<00:03,  2.00s/it]\u001b[A\n",
      "lavam methods:  75%|███████▌  | 3/4 [00:10<00:03,  3.53s/it]\u001b[A\n",
      "lavam methods: 100%|██████████| 4/4 [00:11<00:00,  2.97s/it]\u001b[A\n",
      "samples:  27%|██▋       | 27/100 [05:58<15:57, 13.11s/it]\n",
      "lavam methods:   0%|          | 0/4 [00:00<?, ?it/s]\u001b[A\n",
      "lavam methods:  25%|██▌       | 1/4 [00:00<00:02,  1.17it/s]\u001b[A"
     ]
    },
    {
     "name": "stdout",
     "output_type": "stream",
     "text": [
      "Misclassification achieved at iteration 0, inner iteration 0\n"
     ]
    },
    {
     "name": "stderr",
     "output_type": "stream",
     "text": [
      "\n",
      "lavam methods:  50%|█████     | 2/4 [00:01<00:01,  1.28it/s]\u001b[A"
     ]
    },
    {
     "name": "stdout",
     "output_type": "stream",
     "text": [
      "Misclassification achieved at iteration 0, inner iteration 0\n"
     ]
    },
    {
     "name": "stderr",
     "output_type": "stream",
     "text": [
      "\n",
      "lavam methods:  75%|███████▌  | 3/4 [00:08<00:02,  2.58s/it]\u001b[A"
     ]
    },
    {
     "name": "stdout",
     "output_type": "stream",
     "text": [
      "Misclassification achieved at iteration 2, inner iteration 0\n"
     ]
    },
    {
     "name": "stderr",
     "output_type": "stream",
     "text": [
      "\n",
      "lavam methods: 100%|██████████| 4/4 [00:09<00:00,  2.45s/it]\u001b[A"
     ]
    },
    {
     "name": "stdout",
     "output_type": "stream",
     "text": [
      "Misclassification achieved at iteration 2, inner iteration 1\n"
     ]
    },
    {
     "name": "stderr",
     "output_type": "stream",
     "text": [
      "\n"
     ]
    },
    {
     "data": {
      "image/png": "[encoded data removed]",
      "text/plain": [
       "<Figure size 1500x500 with 5 Axes>"
      ]
     },
     "metadata": {},
     "output_type": "display_data"
    },
    {
     "name": "stderr",
     "output_type": "stream",
     "text": [
      "samples:  28%|██▊       | 28/100 [06:09<14:47, 12.33s/it]\n",
      "lavam methods:   0%|          | 0/4 [00:00<?, ?it/s]\u001b[A"
     ]
    },
    {
     "name": "stdout",
     "output_type": "stream",
     "text": [
      "kl_lavam_vae_v: 1.8468212259084718\n",
      "kl_lavam_vae_g: 0.7053294309779707\n",
      "kl_lavam_cae_v: 0.4681268613059801\n",
      "kl_lavam_cae_g: 0.2728761602354627\n",
      "----------------------------------------------------------------\n",
      "ws_lavam_vae_v: 0.0003259751798281452\n",
      "ws_lavam_vae_g: 0.0003748030443800261\n",
      "ws_lavam_cae_v: 0.0002935203417245613\n",
      "ws_lavam_cae_g: 0.00020261570933224622\n",
      "----------------------------------------------------------------\n",
      "js_lavam_vae_v: 1.0341287358210747\n",
      "js_lavam_vae_g: 0.406527661834895\n",
      "js_lavam_cae_v: 0.3273145149265988\n",
      "js_lavam_cae_g: 0.17826326829585676\n",
      "----------------------------------------------------------------\n",
      "mse_lavam_vae_v: 0.05750325504283299\n",
      "mse_lavam_vae_g: 0.033401151424181645\n",
      "mse_lavam_cae_v: 0.02215358559916066\n",
      "mse_lavam_cae_g: 0.01444643983038894\n",
      "----------------------------------------------------------------\n"
     ]
    },
    {
     "name": "stderr",
     "output_type": "stream",
     "text": [
      "\n",
      "lavam methods:  25%|██▌       | 1/4 [00:02<00:06,  2.19s/it]\u001b[A\n",
      "lavam methods:  50%|█████     | 2/4 [00:03<00:03,  1.90s/it]\u001b[A\n",
      "lavam methods:  75%|███████▌  | 3/4 [00:10<00:03,  3.46s/it]\u001b[A\n",
      "lavam methods: 100%|██████████| 4/4 [00:12<00:00,  3.06s/it]\u001b[A\n",
      "samples:  29%|██▉       | 29/100 [06:21<14:41, 12.42s/it]\n",
      "lavam methods:   0%|          | 0/4 [00:00<?, ?it/s]\u001b[A\n",
      "lavam methods:  25%|██▌       | 1/4 [00:02<00:06,  2.30s/it]\u001b[A\n",
      "lavam methods:  50%|█████     | 2/4 [00:03<00:04,  2.04s/it]\u001b[A\n",
      "lavam methods:  75%|███████▌  | 3/4 [00:10<00:03,  3.59s/it]\u001b[A\n",
      "lavam methods: 100%|██████████| 4/4 [00:12<00:00,  3.04s/it]\u001b[A\n",
      "samples:  30%|███       | 30/100 [06:34<14:32, 12.47s/it]\n",
      "lavam methods:   0%|          | 0/4 [00:00<?, ?it/s]\u001b[A\n",
      "lavam methods:  25%|██▌       | 1/4 [00:02<00:06,  2.26s/it]\u001b[A\n",
      "lavam methods:  50%|█████     | 2/4 [00:03<00:04,  2.03s/it]\u001b[A\n",
      "lavam methods:  75%|███████▌  | 3/4 [00:12<00:04,  4.02s/it]\u001b[A\n",
      "lavam methods: 100%|██████████| 4/4 [00:13<00:00,  3.47s/it]\u001b[A\n",
      "samples:  31%|███       | 31/100 [06:48<14:58, 13.02s/it]\n",
      "lavam methods:   0%|          | 0/4 [00:00<?, ?it/s]\u001b[A\n",
      "lavam methods:  25%|██▌       | 1/4 [00:02<00:06,  2.15s/it]\u001b[A\n",
      "lavam methods:  50%|█████     | 2/4 [00:03<00:03,  1.83s/it]\u001b[A\n",
      "lavam methods:  75%|███████▌  | 3/4 [00:10<00:03,  3.57s/it]\u001b[A\n",
      "lavam methods: 100%|██████████| 4/4 [00:12<00:00,  3.15s/it]\u001b[A\n",
      "samples:  32%|███▏      | 32/100 [07:01<14:45, 13.03s/it]\n",
      "lavam methods:   0%|          | 0/4 [00:00<?, ?it/s]\u001b[A\n",
      "lavam methods:  25%|██▌       | 1/4 [00:02<00:08,  2.83s/it]\u001b[A\n",
      "lavam methods:  50%|█████     | 2/4 [00:04<00:05,  2.62s/it]\u001b[A\n",
      "lavam methods:  75%|███████▌  | 3/4 [00:14<00:04,  4.74s/it]\u001b[A\n",
      "lavam methods: 100%|██████████| 4/4 [00:16<00:00,  4.09s/it]\u001b[A\n",
      "samples:  33%|███▎      | 33/100 [07:18<15:50, 14.18s/it]\n",
      "lavam methods:   0%|          | 0/4 [00:00<?, ?it/s]\u001b[A\n",
      "lavam methods:  25%|██▌       | 1/4 [00:02<00:06,  2.27s/it]\u001b[A\n",
      "lavam methods:  50%|█████     | 2/4 [00:03<00:03,  1.98s/it]\u001b[A\n",
      "lavam methods:  75%|███████▌  | 3/4 [00:11<00:03,  3.85s/it]\u001b[A\n",
      "lavam methods: 100%|██████████| 4/4 [00:13<00:00,  3.34s/it]\u001b[A\n",
      "samples:  34%|███▍      | 34/100 [07:32<15:35, 14.17s/it]\n",
      "lavam methods:   0%|          | 0/4 [00:00<?, ?it/s]\u001b[A\n",
      "lavam methods:  25%|██▌       | 1/4 [00:02<00:08,  2.70s/it]\u001b[A\n",
      "lavam methods:  50%|█████     | 2/4 [00:04<00:04,  2.36s/it]\u001b[A\n",
      "lavam methods:  75%|███████▌  | 3/4 [00:12<00:03,  3.99s/it]\u001b[A\n",
      "lavam methods: 100%|██████████| 4/4 [00:13<00:00,  3.35s/it]\u001b[A\n",
      "samples:  35%|███▌      | 35/100 [07:46<15:13, 14.05s/it]\n",
      "lavam methods:   0%|          | 0/4 [00:00<?, ?it/s]\u001b[A\n",
      "lavam methods:  25%|██▌       | 1/4 [00:01<00:04,  1.38s/it]\u001b[A"
     ]
    },
    {
     "name": "stdout",
     "output_type": "stream",
     "text": [
      "Misclassification achieved at iteration 0, inner iteration 1\n"
     ]
    },
    {
     "name": "stderr",
     "output_type": "stream",
     "text": [
      "\n",
      "lavam methods:  50%|█████     | 2/4 [00:02<00:02,  1.21s/it]\u001b[A"
     ]
    },
    {
     "name": "stdout",
     "output_type": "stream",
     "text": [
      "Misclassification achieved at iteration 0, inner iteration 1\n"
     ]
    },
    {
     "name": "stderr",
     "output_type": "stream",
     "text": [
      "\n",
      "lavam methods:  75%|███████▌  | 3/4 [00:09<00:03,  3.05s/it]\u001b[A\n",
      "lavam methods: 100%|██████████| 4/4 [00:10<00:00,  2.70s/it]\u001b[A\n",
      "samples:  36%|███▌      | 36/100 [07:57<14:02, 13.17s/it]\n",
      "lavam methods:   0%|          | 0/4 [00:00<?, ?it/s]\u001b[A\n",
      "lavam methods:  25%|██▌       | 1/4 [00:02<00:06,  2.29s/it]\u001b[A\n",
      "lavam methods:  50%|█████     | 2/4 [00:03<00:03,  1.99s/it]\u001b[A\n",
      "lavam methods:  75%|███████▌  | 3/4 [00:10<00:03,  3.55s/it]\u001b[A\n",
      "lavam methods: 100%|██████████| 4/4 [00:12<00:00,  3.05s/it]\u001b[A\n",
      "samples:  37%|███▋      | 37/100 [08:10<13:38, 12.99s/it]\n",
      "lavam methods:   0%|          | 0/4 [00:00<?, ?it/s]\u001b[A\n",
      "lavam methods:  25%|██▌       | 1/4 [00:02<00:06,  2.18s/it]\u001b[A\n",
      "lavam methods:  50%|█████     | 2/4 [00:03<00:03,  1.93s/it]\u001b[A\n",
      "lavam methods:  75%|███████▌  | 3/4 [00:10<00:03,  3.52s/it]\u001b[A\n",
      "lavam methods: 100%|██████████| 4/4 [00:12<00:00,  3.02s/it]\u001b[A\n",
      "samples:  38%|███▊      | 38/100 [08:22<13:15, 12.83s/it]\n",
      "lavam methods:   0%|          | 0/4 [00:00<?, ?it/s]\u001b[A\n",
      "lavam methods:  25%|██▌       | 1/4 [00:02<00:06,  2.25s/it]\u001b[A\n",
      "lavam methods:  50%|█████     | 2/4 [00:03<00:03,  1.98s/it]\u001b[A\n",
      "lavam methods:  75%|███████▌  | 3/4 [00:10<00:03,  3.52s/it]\u001b[A\n",
      "lavam methods: 100%|██████████| 4/4 [00:12<00:00,  3.04s/it]\u001b[A\n",
      "samples:  39%|███▉      | 39/100 [08:35<12:56, 12.74s/it]\n",
      "lavam methods:   0%|          | 0/4 [00:00<?, ?it/s]\u001b[A\n",
      "lavam methods:  25%|██▌       | 1/4 [00:00<00:02,  1.17it/s]\u001b[A"
     ]
    },
    {
     "name": "stdout",
     "output_type": "stream",
     "text": [
      "Misclassification achieved at iteration 0, inner iteration 0\n"
     ]
    },
    {
     "name": "stderr",
     "output_type": "stream",
     "text": [
      "\n",
      "lavam methods:  50%|█████     | 2/4 [00:01<00:01,  1.33it/s]\u001b[A"
     ]
    },
    {
     "name": "stdout",
     "output_type": "stream",
     "text": [
      "Misclassification achieved at iteration 0, inner iteration 0\n"
     ]
    },
    {
     "name": "stderr",
     "output_type": "stream",
     "text": [
      "\n",
      "lavam methods:  75%|███████▌  | 3/4 [00:05<00:01,  1.82s/it]\u001b[A"
     ]
    },
    {
     "name": "stdout",
     "output_type": "stream",
     "text": [
      "Misclassification achieved at iteration 0, inner iteration 1\n"
     ]
    },
    {
     "name": "stderr",
     "output_type": "stream",
     "text": [
      "\n",
      "lavam methods: 100%|██████████| 4/4 [00:06<00:00,  1.67s/it]\u001b[A"
     ]
    },
    {
     "name": "stdout",
     "output_type": "stream",
     "text": [
      "Misclassification achieved at iteration 0, inner iteration 2\n"
     ]
    },
    {
     "name": "stderr",
     "output_type": "stream",
     "text": [
      "\n"
     ]
    },
    {
     "data": {
      "image/png": "[encoded data removed]",
      "text/plain": [
       "<Figure size 1500x500 with 5 Axes>"
      ]
     },
     "metadata": {},
     "output_type": "display_data"
    },
    {
     "name": "stderr",
     "output_type": "stream",
     "text": [
      "samples:  40%|████      | 40/100 [08:42<11:06, 11.11s/it]\n",
      "lavam methods:   0%|          | 0/4 [00:00<?, ?it/s]\u001b[A"
     ]
    },
    {
     "name": "stdout",
     "output_type": "stream",
     "text": [
      "kl_lavam_vae_v: 0.6538125496917792\n",
      "kl_lavam_vae_g: 0.6971837055764337\n",
      "kl_lavam_cae_v: 0.5590893784121838\n",
      "kl_lavam_cae_g: 0.47849933246407406\n",
      "----------------------------------------------------------------\n",
      "ws_lavam_vae_v: 0.0006023981686856043\n",
      "ws_lavam_vae_g: 0.0004991692074369081\n",
      "ws_lavam_cae_v: 0.0003044363636114803\n",
      "ws_lavam_cae_g: 0.00025888020817736924\n",
      "----------------------------------------------------------------\n",
      "js_lavam_vae_v: 0.29793453156637034\n",
      "js_lavam_vae_g: 0.34867007171386655\n",
      "js_lavam_cae_v: 0.34311164696084095\n",
      "js_lavam_cae_g: 0.2658854446083457\n",
      "----------------------------------------------------------------\n",
      "mse_lavam_vae_v: 0.03603216326389616\n",
      "mse_lavam_vae_g: 0.03181514417538876\n",
      "mse_lavam_cae_v: 0.03187328914297464\n",
      "mse_lavam_cae_g: 0.02682315333130373\n",
      "----------------------------------------------------------------\n"
     ]
    },
    {
     "name": "stderr",
     "output_type": "stream",
     "text": [
      "\n",
      "lavam methods:  25%|██▌       | 1/4 [00:02<00:06,  2.29s/it]\u001b[A"
     ]
    },
    {
     "name": "stdout",
     "output_type": "stream",
     "text": [
      "Misclassification achieved at iteration 0, inner iteration 3\n"
     ]
    },
    {
     "name": "stderr",
     "output_type": "stream",
     "text": [
      "\n",
      "lavam methods:  50%|█████     | 2/4 [00:03<00:03,  1.86s/it]\u001b[A"
     ]
    },
    {
     "name": "stdout",
     "output_type": "stream",
     "text": [
      "Misclassification achieved at iteration 1, inner iteration 0\n"
     ]
    },
    {
     "name": "stderr",
     "output_type": "stream",
     "text": [
      "\n",
      "lavam methods:  75%|███████▌  | 3/4 [00:13<00:04,  4.31s/it]\u001b[A"
     ]
    },
    {
     "name": "stdout",
     "output_type": "stream",
     "text": [
      "Misclassification achieved at iteration 2, inner iteration 3\n"
     ]
    },
    {
     "name": "stderr",
     "output_type": "stream",
     "text": [
      "\n",
      "lavam methods: 100%|██████████| 4/4 [00:15<00:00,  3.75s/it]\u001b[A"
     ]
    },
    {
     "name": "stdout",
     "output_type": "stream",
     "text": [
      "Misclassification achieved at iteration 2, inner iteration 2\n"
     ]
    },
    {
     "name": "stderr",
     "output_type": "stream",
     "text": [
      "\n"
     ]
    },
    {
     "data": {
      "image/png": "[encoded data removed]",
      "text/plain": [
       "<Figure size 1500x500 with 5 Axes>"
      ]
     },
     "metadata": {},
     "output_type": "display_data"
    },
    {
     "name": "stderr",
     "output_type": "stream",
     "text": [
      "samples:  41%|████      | 41/100 [08:58<12:15, 12.46s/it]\n",
      "lavam methods:   0%|          | 0/4 [00:00<?, ?it/s]\u001b[A"
     ]
    },
    {
     "name": "stdout",
     "output_type": "stream",
     "text": [
      "kl_lavam_vae_v: 5.092845867332809\n",
      "kl_lavam_vae_g: 0.25101330974888136\n",
      "kl_lavam_cae_v: 0.17001499472221512\n",
      "kl_lavam_cae_g: 0.1639817052655283\n",
      "----------------------------------------------------------------\n",
      "ws_lavam_vae_v: 0.0018377635034913956\n",
      "ws_lavam_vae_g: 0.000259126852239428\n",
      "ws_lavam_cae_v: 0.0001016314563558867\n",
      "ws_lavam_cae_g: 9.370126656300805e-05\n",
      "----------------------------------------------------------------\n",
      "js_lavam_vae_v: 3.2055610391620677\n",
      "js_lavam_vae_g: 0.11283715704059753\n",
      "js_lavam_cae_v: 0.09801507712423824\n",
      "js_lavam_cae_g: 0.08924177358207191\n",
      "----------------------------------------------------------------\n",
      "mse_lavam_vae_v: 0.16147578773178206\n",
      "mse_lavam_vae_g: 0.03329929629206804\n",
      "mse_lavam_cae_v: 0.019068838069882108\n",
      "mse_lavam_cae_g: 0.018040389303400378\n",
      "----------------------------------------------------------------\n"
     ]
    },
    {
     "name": "stderr",
     "output_type": "stream",
     "text": [
      "\n",
      "lavam methods:  25%|██▌       | 1/4 [00:01<00:05,  1.87s/it]\u001b[A\n",
      "lavam methods:  50%|█████     | 2/4 [00:03<00:03,  1.72s/it]\u001b[A\n",
      "lavam methods:  75%|███████▌  | 3/4 [00:10<00:03,  3.37s/it]\u001b[A\n",
      "lavam methods: 100%|██████████| 4/4 [00:12<00:00,  3.01s/it]\u001b[A\n",
      "samples:  42%|████▏     | 42/100 [09:10<12:01, 12.43s/it]\n",
      "lavam methods:   0%|          | 0/4 [00:00<?, ?it/s]\u001b[A\n",
      "lavam methods:  25%|██▌       | 1/4 [00:02<00:06,  2.12s/it]\u001b[A\n",
      "lavam methods:  50%|█████     | 2/4 [00:03<00:03,  1.92s/it]\u001b[A\n",
      "lavam methods:  75%|███████▌  | 3/4 [00:10<00:03,  3.50s/it]\u001b[A\n",
      "lavam methods: 100%|██████████| 4/4 [00:12<00:00,  3.06s/it]\u001b[A\n",
      "samples:  43%|████▎     | 43/100 [09:22<11:50, 12.46s/it]\n",
      "lavam methods:   0%|          | 0/4 [00:00<?, ?it/s]\u001b[A\n",
      "lavam methods:  25%|██▌       | 1/4 [00:02<00:06,  2.25s/it]\u001b[A\n",
      "lavam methods:  50%|█████     | 2/4 [00:03<00:03,  1.98s/it]\u001b[A\n",
      "lavam methods:  75%|███████▌  | 3/4 [00:10<00:03,  3.58s/it]\u001b[A\n",
      "lavam methods: 100%|██████████| 4/4 [00:12<00:00,  3.07s/it]\u001b[A\n",
      "samples:  44%|████▍     | 44/100 [09:35<11:40, 12.52s/it]\n",
      "lavam methods:   0%|          | 0/4 [00:00<?, ?it/s]\u001b[A\n",
      "lavam methods:  25%|██▌       | 1/4 [00:02<00:06,  2.10s/it]\u001b[A\n",
      "lavam methods:  50%|█████     | 2/4 [00:03<00:03,  1.86s/it]\u001b[A\n",
      "lavam methods:  75%|███████▌  | 3/4 [00:10<00:03,  3.49s/it]\u001b[A\n",
      "lavam methods: 100%|██████████| 4/4 [00:12<00:00,  3.03s/it]\u001b[A\n",
      "samples:  45%|████▌     | 45/100 [09:48<11:28, 12.52s/it]\n",
      "lavam methods:   0%|          | 0/4 [00:00<?, ?it/s]\u001b[A\n",
      "lavam methods:  25%|██▌       | 1/4 [00:00<00:02,  1.25it/s]\u001b[A"
     ]
    },
    {
     "name": "stdout",
     "output_type": "stream",
     "text": [
      "Misclassification achieved at iteration 0, inner iteration 0\n"
     ]
    },
    {
     "name": "stderr",
     "output_type": "stream",
     "text": [
      "\n",
      "lavam methods:  50%|█████     | 2/4 [00:01<00:01,  1.36it/s]\u001b[A"
     ]
    },
    {
     "name": "stdout",
     "output_type": "stream",
     "text": [
      "Misclassification achieved at iteration 0, inner iteration 0\n"
     ]
    },
    {
     "name": "stderr",
     "output_type": "stream",
     "text": [
      "\n",
      "lavam methods:  75%|███████▌  | 3/4 [00:08<00:02,  2.72s/it]\u001b[A\n",
      "lavam methods: 100%|██████████| 4/4 [00:10<00:00,  2.53s/it]\u001b[A\n",
      "samples:  46%|████▌     | 46/100 [09:58<10:42, 11.91s/it]\n",
      "lavam methods:   0%|          | 0/4 [00:00<?, ?it/s]\u001b[A\n",
      "lavam methods:  25%|██▌       | 1/4 [00:02<00:06,  2.15s/it]\u001b[A\n",
      "lavam methods:  50%|█████     | 2/4 [00:03<00:03,  1.90s/it]\u001b[A\n",
      "lavam methods:  75%|███████▌  | 3/4 [00:10<00:03,  3.51s/it]\u001b[A\n",
      "lavam methods: 100%|██████████| 4/4 [00:12<00:00,  3.00s/it]\u001b[A\n",
      "samples:  47%|████▋     | 47/100 [10:10<10:37, 12.03s/it]\n",
      "lavam methods:   0%|          | 0/4 [00:00<?, ?it/s]\u001b[A\n",
      "lavam methods:  25%|██▌       | 1/4 [00:02<00:06,  2.16s/it]\u001b[A\n",
      "lavam methods:  50%|█████     | 2/4 [00:03<00:03,  1.97s/it]\u001b[A\n",
      "lavam methods:  75%|███████▌  | 3/4 [00:11<00:03,  3.73s/it]\u001b[A\n",
      "lavam methods: 100%|██████████| 4/4 [00:12<00:00,  3.20s/it]\u001b[A\n",
      "samples:  48%|████▊     | 48/100 [10:24<10:43, 12.37s/it]\n",
      "lavam methods:   0%|          | 0/4 [00:00<?, ?it/s]\u001b[A\n",
      "lavam methods:  25%|██▌       | 1/4 [00:02<00:07,  2.51s/it]\u001b[A"
     ]
    },
    {
     "name": "stdout",
     "output_type": "stream",
     "text": [
      "Misclassification achieved at iteration 2, inner iteration 2\n"
     ]
    },
    {
     "name": "stderr",
     "output_type": "stream",
     "text": [
      "\n",
      "lavam methods:  50%|█████     | 2/4 [00:03<00:03,  1.94s/it]\u001b[A"
     ]
    },
    {
     "name": "stdout",
     "output_type": "stream",
     "text": [
      "Misclassification achieved at iteration 1, inner iteration 0\n"
     ]
    },
    {
     "name": "stderr",
     "output_type": "stream",
     "text": [
      "\n",
      "lavam methods:  75%|███████▌  | 3/4 [00:10<00:03,  3.52s/it]\u001b[A\n",
      "lavam methods: 100%|██████████| 4/4 [00:11<00:00,  2.88s/it]\u001b[A\n",
      "samples:  49%|████▉     | 49/100 [10:36<10:24, 12.25s/it]\n",
      "lavam methods:   0%|          | 0/4 [00:00<?, ?it/s]\u001b[A\n",
      "lavam methods:  25%|██▌       | 1/4 [00:03<00:09,  3.06s/it]\u001b[A"
     ]
    },
    {
     "name": "stdout",
     "output_type": "stream",
     "text": [
      "Misclassification achieved at iteration 4, inner iteration 1\n"
     ]
    },
    {
     "name": "stderr",
     "output_type": "stream",
     "text": [
      "\n",
      "lavam methods:  50%|█████     | 2/4 [00:04<00:05,  2.52s/it]\u001b[A\n",
      "lavam methods:  75%|███████▌  | 3/4 [00:11<00:03,  3.99s/it]\u001b[A\n",
      "lavam methods: 100%|██████████| 4/4 [00:13<00:00,  3.27s/it]\u001b[A\n",
      "samples:  50%|█████     | 50/100 [10:49<10:30, 12.61s/it]\n",
      "lavam methods:   0%|          | 0/4 [00:00<?, ?it/s]\u001b[A\n",
      "lavam methods:  25%|██▌       | 1/4 [00:02<00:06,  2.07s/it]\u001b[A\n",
      "lavam methods:  50%|█████     | 2/4 [00:03<00:03,  1.86s/it]\u001b[A\n",
      "lavam methods:  75%|███████▌  | 3/4 [00:10<00:03,  3.49s/it]\u001b[A\n",
      "lavam methods: 100%|██████████| 4/4 [00:12<00:00,  3.01s/it]\u001b[A\n",
      "samples:  51%|█████     | 51/100 [11:01<10:14, 12.53s/it]\n",
      "lavam methods:   0%|          | 0/4 [00:00<?, ?it/s]\u001b[A\n",
      "lavam methods:  25%|██▌       | 1/4 [00:02<00:06,  2.11s/it]\u001b[A\n",
      "lavam methods:  50%|█████     | 2/4 [00:03<00:03,  1.89s/it]\u001b[A\n",
      "lavam methods:  75%|███████▌  | 3/4 [00:10<00:03,  3.46s/it]\u001b[A\n",
      "lavam methods: 100%|██████████| 4/4 [00:11<00:00,  3.00s/it]\u001b[A\n",
      "samples:  52%|█████▏    | 52/100 [11:14<09:58, 12.48s/it]\n",
      "lavam methods:   0%|          | 0/4 [00:00<?, ?it/s]\u001b[A\n",
      "lavam methods:  25%|██▌       | 1/4 [00:02<00:06,  2.07s/it]\u001b[A\n",
      "lavam methods:  50%|█████     | 2/4 [00:03<00:03,  1.87s/it]\u001b[A\n",
      "lavam methods:  75%|███████▌  | 3/4 [00:10<00:03,  3.54s/it]\u001b[A\n",
      "lavam methods: 100%|██████████| 4/4 [00:12<00:00,  3.08s/it]\u001b[A\n",
      "samples:  53%|█████▎    | 53/100 [11:26<09:49, 12.54s/it]\n",
      "lavam methods:   0%|          | 0/4 [00:00<?, ?it/s]\u001b[A\n",
      "lavam methods:  25%|██▌       | 1/4 [00:02<00:06,  2.20s/it]\u001b[A\n",
      "lavam methods:  50%|█████     | 2/4 [00:03<00:03,  1.98s/it]\u001b[A\n",
      "lavam methods:  75%|███████▌  | 3/4 [00:10<00:03,  3.55s/it]\u001b[A\n",
      "lavam methods: 100%|██████████| 4/4 [00:12<00:00,  3.04s/it]\u001b[A\n",
      "samples:  54%|█████▍    | 54/100 [11:39<09:35, 12.52s/it]\n",
      "lavam methods:   0%|          | 0/4 [00:00<?, ?it/s]\u001b[A\n",
      "lavam methods:  25%|██▌       | 1/4 [00:02<00:06,  2.25s/it]\u001b[A\n",
      "lavam methods:  50%|█████     | 2/4 [00:03<00:03,  1.96s/it]\u001b[A\n",
      "lavam methods:  75%|███████▌  | 3/4 [00:10<00:03,  3.55s/it]\u001b[A\n",
      "lavam methods: 100%|██████████| 4/4 [00:12<00:00,  3.05s/it]\u001b[A\n",
      "samples:  55%|█████▌    | 55/100 [11:51<09:23, 12.52s/it]\n",
      "lavam methods:   0%|          | 0/4 [00:00<?, ?it/s]\u001b[A\n",
      "lavam methods:  25%|██▌       | 1/4 [00:02<00:06,  2.04s/it]\u001b[A\n",
      "lavam methods:  50%|█████     | 2/4 [00:03<00:03,  1.83s/it]\u001b[A\n",
      "lavam methods:  75%|███████▌  | 3/4 [00:10<00:03,  3.44s/it]\u001b[A\n",
      "lavam methods: 100%|██████████| 4/4 [00:11<00:00,  2.99s/it]\u001b[A\n",
      "samples:  56%|█████▌    | 56/100 [12:04<09:09, 12.48s/it]\n",
      "lavam methods:   0%|          | 0/4 [00:00<?, ?it/s]\u001b[A\n",
      "lavam methods:  25%|██▌       | 1/4 [00:02<00:06,  2.22s/it]\u001b[A"
     ]
    },
    {
     "name": "stdout",
     "output_type": "stream",
     "text": [
      "Misclassification achieved at iteration 2, inner iteration 1\n"
     ]
    },
    {
     "name": "stderr",
     "output_type": "stream",
     "text": [
      "\n",
      "lavam methods:  50%|█████     | 2/4 [00:03<00:04,  2.00s/it]\u001b[A"
     ]
    },
    {
     "name": "stdout",
     "output_type": "stream",
     "text": [
      "Misclassification achieved at iteration 2, inner iteration 2\n"
     ]
    },
    {
     "name": "stderr",
     "output_type": "stream",
     "text": [
      "\n",
      "lavam methods:  75%|███████▌  | 3/4 [00:11<00:03,  3.79s/it]\u001b[A\n",
      "lavam methods: 100%|██████████| 4/4 [00:13<00:00,  3.25s/it]\u001b[A\n",
      "samples:  57%|█████▋    | 57/100 [12:17<09:08, 12.77s/it]\n",
      "lavam methods:   0%|          | 0/4 [00:00<?, ?it/s]\u001b[A\n",
      "lavam methods:  25%|██▌       | 1/4 [00:02<00:07,  2.40s/it]\u001b[A"
     ]
    },
    {
     "name": "stdout",
     "output_type": "stream",
     "text": [
      "Misclassification achieved at iteration 2, inner iteration 2\n"
     ]
    },
    {
     "name": "stderr",
     "output_type": "stream",
     "text": [
      "\n",
      "lavam methods:  50%|█████     | 2/4 [00:03<00:04,  2.11s/it]\u001b[A"
     ]
    },
    {
     "name": "stdout",
     "output_type": "stream",
     "text": [
      "Misclassification achieved at iteration 3, inner iteration 0\n"
     ]
    },
    {
     "name": "stderr",
     "output_type": "stream",
     "text": [
      "\n",
      "lavam methods:  75%|███████▌  | 3/4 [00:11<00:03,  3.68s/it]\u001b[A\n",
      "lavam methods: 100%|██████████| 4/4 [00:12<00:00,  3.18s/it]\u001b[A\n",
      "samples:  58%|█████▊    | 58/100 [12:30<09:00, 12.87s/it]\n",
      "lavam methods:   0%|          | 0/4 [00:00<?, ?it/s]\u001b[A\n",
      "lavam methods:  25%|██▌       | 1/4 [00:01<00:03,  1.00s/it]\u001b[A"
     ]
    },
    {
     "name": "stdout",
     "output_type": "stream",
     "text": [
      "Misclassification achieved at iteration 0, inner iteration 0\n"
     ]
    },
    {
     "name": "stderr",
     "output_type": "stream",
     "text": [
      "\n",
      "lavam methods:  50%|█████     | 2/4 [00:01<00:01,  1.16it/s]\u001b[A"
     ]
    },
    {
     "name": "stdout",
     "output_type": "stream",
     "text": [
      "Misclassification achieved at iteration 0, inner iteration 0\n"
     ]
    },
    {
     "name": "stderr",
     "output_type": "stream",
     "text": [
      "\n",
      "lavam methods:  75%|███████▌  | 3/4 [00:08<00:02,  2.77s/it]\u001b[A"
     ]
    },
    {
     "name": "stdout",
     "output_type": "stream",
     "text": [
      "Misclassification achieved at iteration 2, inner iteration 1\n"
     ]
    },
    {
     "name": "stderr",
     "output_type": "stream",
     "text": [
      "\n",
      "lavam methods: 100%|██████████| 4/4 [00:10<00:00,  2.53s/it]\u001b[A"
     ]
    },
    {
     "name": "stdout",
     "output_type": "stream",
     "text": [
      "Misclassification achieved at iteration 1, inner iteration 2\n"
     ]
    },
    {
     "name": "stderr",
     "output_type": "stream",
     "text": [
      "\n"
     ]
    },
    {
     "data": {
      "image/png": "[encoded data removed]",
      "text/plain": [
       "<Figure size 1500x500 with 5 Axes>"
      ]
     },
     "metadata": {},
     "output_type": "display_data"
    },
    {
     "name": "stderr",
     "output_type": "stream",
     "text": [
      "samples:  59%|█████▉    | 59/100 [12:41<08:21, 12.24s/it]\n",
      "lavam methods:   0%|          | 0/4 [00:00<?, ?it/s]\u001b[A"
     ]
    },
    {
     "name": "stdout",
     "output_type": "stream",
     "text": [
      "kl_lavam_vae_v: 12.142814930098979\n",
      "kl_lavam_vae_g: 2.6101950490588117\n",
      "kl_lavam_cae_v: 0.7523702132538967\n",
      "kl_lavam_cae_g: 0.7431540764357222\n",
      "----------------------------------------------------------------\n",
      "ws_lavam_vae_v: 0.00037231664006584557\n",
      "ws_lavam_vae_g: 0.0005189395924496764\n",
      "ws_lavam_cae_v: 0.00015778920349259864\n",
      "ws_lavam_cae_g: 0.00010309384411923034\n",
      "----------------------------------------------------------------\n",
      "js_lavam_vae_v: 6.188356991998168\n",
      "js_lavam_vae_g: 1.3440121726124035\n",
      "js_lavam_cae_v: 0.47291697057308163\n",
      "js_lavam_cae_g: 0.45852220447357905\n",
      "----------------------------------------------------------------\n",
      "mse_lavam_vae_v: 0.11600125248339463\n",
      "mse_lavam_vae_g: 0.053386046027580604\n",
      "mse_lavam_cae_v: 0.024184263990709984\n",
      "mse_lavam_cae_g: 0.024168608268767457\n",
      "----------------------------------------------------------------\n"
     ]
    },
    {
     "name": "stderr",
     "output_type": "stream",
     "text": [
      "\n",
      "lavam methods:  25%|██▌       | 1/4 [00:02<00:07,  2.40s/it]\u001b[A"
     ]
    },
    {
     "name": "stdout",
     "output_type": "stream",
     "text": [
      "Misclassification achieved at iteration 1, inner iteration 3\n"
     ]
    },
    {
     "name": "stderr",
     "output_type": "stream",
     "text": [
      "\n",
      "lavam methods:  50%|█████     | 2/4 [00:03<00:04,  2.02s/it]\u001b[A"
     ]
    },
    {
     "name": "stdout",
     "output_type": "stream",
     "text": [
      "Misclassification achieved at iteration 1, inner iteration 1\n"
     ]
    },
    {
     "name": "stderr",
     "output_type": "stream",
     "text": [
      "\n",
      "lavam methods:  75%|███████▌  | 3/4 [00:10<00:03,  3.58s/it]\u001b[A\n",
      "lavam methods: 100%|██████████| 4/4 [00:11<00:00,  2.96s/it]\u001b[A\n",
      "samples:  60%|██████    | 60/100 [12:53<08:08, 12.22s/it]\n",
      "lavam methods:   0%|          | 0/4 [00:00<?, ?it/s]\u001b[A\n",
      "lavam methods:  25%|██▌       | 1/4 [00:01<00:05,  1.79s/it]\u001b[A"
     ]
    },
    {
     "name": "stdout",
     "output_type": "stream",
     "text": [
      "Misclassification achieved at iteration 0, inner iteration 2\n"
     ]
    },
    {
     "name": "stderr",
     "output_type": "stream",
     "text": [
      "\n",
      "lavam methods:  50%|█████     | 2/4 [00:02<00:03,  1.51s/it]\u001b[A"
     ]
    },
    {
     "name": "stdout",
     "output_type": "stream",
     "text": [
      "Misclassification achieved at iteration 0, inner iteration 1\n"
     ]
    },
    {
     "name": "stderr",
     "output_type": "stream",
     "text": [
      "\n",
      "lavam methods:  75%|███████▌  | 3/4 [00:09<00:03,  3.20s/it]\u001b[A\n",
      "lavam methods: 100%|██████████| 4/4 [00:11<00:00,  2.81s/it]\u001b[A\n",
      "samples:  61%|██████    | 61/100 [13:05<07:48, 12.02s/it]\n",
      "lavam methods:   0%|          | 0/4 [00:00<?, ?it/s]\u001b[A\n",
      "lavam methods:  25%|██▌       | 1/4 [00:02<00:06,  2.17s/it]\u001b[A\n",
      "lavam methods:  50%|█████     | 2/4 [00:03<00:03,  1.94s/it]\u001b[A\n",
      "lavam methods:  75%|███████▌  | 3/4 [00:10<00:03,  3.53s/it]\u001b[A\n",
      "lavam methods: 100%|██████████| 4/4 [00:12<00:00,  3.08s/it]\u001b[A\n",
      "samples:  62%|██████▏   | 62/100 [13:17<07:43, 12.21s/it]\n",
      "lavam methods:   0%|          | 0/4 [00:00<?, ?it/s]\u001b[A\n",
      "lavam methods:  25%|██▌       | 1/4 [00:00<00:02,  1.29it/s]\u001b[A"
     ]
    },
    {
     "name": "stdout",
     "output_type": "stream",
     "text": [
      "Misclassification achieved at iteration 0, inner iteration 0\n"
     ]
    },
    {
     "name": "stderr",
     "output_type": "stream",
     "text": [
      "\n",
      "lavam methods:  50%|█████     | 2/4 [00:01<00:01,  1.39it/s]\u001b[A"
     ]
    },
    {
     "name": "stdout",
     "output_type": "stream",
     "text": [
      "Misclassification achieved at iteration 0, inner iteration 0\n"
     ]
    },
    {
     "name": "stderr",
     "output_type": "stream",
     "text": [
      "\n",
      "lavam methods:  75%|███████▌  | 3/4 [00:07<00:02,  2.26s/it]\u001b[A"
     ]
    },
    {
     "name": "stdout",
     "output_type": "stream",
     "text": [
      "Misclassification achieved at iteration 0, inner iteration 2\n"
     ]
    },
    {
     "name": "stderr",
     "output_type": "stream",
     "text": [
      "\n",
      "lavam methods: 100%|██████████| 4/4 [00:08<00:00,  2.08s/it]\u001b[A"
     ]
    },
    {
     "name": "stdout",
     "output_type": "stream",
     "text": [
      "Misclassification achieved at iteration 0, inner iteration 2\n"
     ]
    },
    {
     "name": "stderr",
     "output_type": "stream",
     "text": [
      "\n"
     ]
    },
    {
     "data": {
      "image/png": "[encoded data removed]",
      "text/plain": [
       "<Figure size 1500x500 with 5 Axes>"
      ]
     },
     "metadata": {},
     "output_type": "display_data"
    },
    {
     "name": "stderr",
     "output_type": "stream",
     "text": [
      "samples:  63%|██████▎   | 63/100 [13:26<06:56, 11.25s/it]\n",
      "lavam methods:   0%|          | 0/4 [00:00<?, ?it/s]\u001b[A"
     ]
    },
    {
     "name": "stdout",
     "output_type": "stream",
     "text": [
      "kl_lavam_vae_v: 23.683176176811003\n",
      "kl_lavam_vae_g: 0.4555823281027732\n",
      "kl_lavam_cae_v: 0.3584252500337718\n",
      "kl_lavam_cae_g: 0.34343659827180445\n",
      "----------------------------------------------------------------\n",
      "ws_lavam_vae_v: 0.0003780688728910737\n",
      "ws_lavam_vae_g: 0.00028220942818092367\n",
      "ws_lavam_cae_v: 9.097674602131617e-05\n",
      "ws_lavam_cae_g: 8.533372496245539e-05\n",
      "----------------------------------------------------------------\n",
      "js_lavam_vae_v: 11.92879896457036\n",
      "js_lavam_vae_g: 0.27122352586591764\n",
      "js_lavam_cae_v: 0.251809804033056\n",
      "js_lavam_cae_g: 0.2413023177496475\n",
      "----------------------------------------------------------------\n",
      "mse_lavam_vae_v: 0.22347231407666668\n",
      "mse_lavam_vae_g: 0.02823148405915591\n",
      "mse_lavam_cae_v: 0.020049938982102177\n",
      "mse_lavam_cae_g: 0.019711545410824444\n",
      "----------------------------------------------------------------\n"
     ]
    },
    {
     "name": "stderr",
     "output_type": "stream",
     "text": [
      "\n",
      "lavam methods:  25%|██▌       | 1/4 [00:02<00:06,  2.18s/it]\u001b[A\n",
      "lavam methods:  50%|█████     | 2/4 [00:03<00:03,  1.90s/it]\u001b[A\n",
      "lavam methods:  75%|███████▌  | 3/4 [00:10<00:03,  3.54s/it]\u001b[A\n",
      "lavam methods: 100%|██████████| 4/4 [00:11<00:00,  2.98s/it]\u001b[A\n",
      "samples:  64%|██████▍   | 64/100 [13:39<06:55, 11.54s/it]\n",
      "lavam methods:   0%|          | 0/4 [00:00<?, ?it/s]\u001b[A\n",
      "lavam methods:  25%|██▌       | 1/4 [00:03<00:09,  3.05s/it]\u001b[A"
     ]
    },
    {
     "name": "stdout",
     "output_type": "stream",
     "text": [
      "Misclassification achieved at iteration 3, inner iteration 2\n"
     ]
    },
    {
     "name": "stderr",
     "output_type": "stream",
     "text": [
      "\n",
      "lavam methods:  50%|█████     | 2/4 [00:04<00:05,  2.64s/it]\u001b[A"
     ]
    },
    {
     "name": "stdout",
     "output_type": "stream",
     "text": [
      "Misclassification achieved at iteration 3, inner iteration 2\n"
     ]
    },
    {
     "name": "stderr",
     "output_type": "stream",
     "text": [
      "\n",
      "lavam methods:  75%|███████▌  | 3/4 [00:11<00:03,  3.99s/it]\u001b[A\n",
      "lavam methods: 100%|██████████| 4/4 [00:13<00:00,  3.37s/it]\u001b[A\n",
      "samples:  65%|██████▌   | 65/100 [13:53<07:08, 12.25s/it]\n",
      "lavam methods:   0%|          | 0/4 [00:00<?, ?it/s]\u001b[A\n",
      "lavam methods:  25%|██▌       | 1/4 [00:02<00:06,  2.17s/it]\u001b[A\n",
      "lavam methods:  50%|█████     | 2/4 [00:03<00:03,  1.89s/it]\u001b[A\n",
      "lavam methods:  75%|███████▌  | 3/4 [00:10<00:03,  3.47s/it]\u001b[A\n",
      "lavam methods: 100%|██████████| 4/4 [00:11<00:00,  2.99s/it]\u001b[A\n",
      "samples:  66%|██████▌   | 66/100 [14:05<06:57, 12.28s/it]\n",
      "lavam methods:   0%|          | 0/4 [00:00<?, ?it/s]\u001b[A\n",
      "lavam methods:  25%|██▌       | 1/4 [00:03<00:10,  3.49s/it]\u001b[A"
     ]
    },
    {
     "name": "stdout",
     "output_type": "stream",
     "text": [
      "Misclassification achieved at iteration 3, inner iteration 3\n"
     ]
    },
    {
     "name": "stderr",
     "output_type": "stream",
     "text": [
      "\n",
      "lavam methods:  50%|█████     | 2/4 [00:04<00:05,  2.80s/it]\u001b[A"
     ]
    },
    {
     "name": "stdout",
     "output_type": "stream",
     "text": [
      "Misclassification achieved at iteration 3, inner iteration 0\n"
     ]
    },
    {
     "name": "stderr",
     "output_type": "stream",
     "text": [
      "\n",
      "lavam methods:  75%|███████▌  | 3/4 [00:11<00:04,  4.10s/it]\u001b[A\n",
      "lavam methods: 100%|██████████| 4/4 [00:13<00:00,  3.30s/it]\u001b[A\n",
      "samples:  67%|██████▋   | 67/100 [14:19<06:59, 12.71s/it]\n",
      "lavam methods:   0%|          | 0/4 [00:00<?, ?it/s]\u001b[A\n",
      "lavam methods:  25%|██▌       | 1/4 [00:02<00:07,  2.46s/it]\u001b[A\n",
      "lavam methods:  50%|█████     | 2/4 [00:04<00:04,  2.20s/it]\u001b[A\n",
      "lavam methods:  75%|███████▌  | 3/4 [00:11<00:03,  3.79s/it]\u001b[A\n",
      "lavam methods: 100%|██████████| 4/4 [00:12<00:00,  3.25s/it]\u001b[A\n",
      "samples:  68%|██████▊   | 68/100 [14:32<06:53, 12.91s/it]\n",
      "lavam methods:   0%|          | 0/4 [00:00<?, ?it/s]\u001b[A\n",
      "lavam methods:  25%|██▌       | 1/4 [00:02<00:06,  2.30s/it]\u001b[A\n",
      "lavam methods:  50%|█████     | 2/4 [00:03<00:03,  1.98s/it]\u001b[A\n",
      "lavam methods:  75%|███████▌  | 3/4 [00:10<00:03,  3.55s/it]\u001b[A\n",
      "lavam methods: 100%|██████████| 4/4 [00:12<00:00,  3.05s/it]\u001b[A\n",
      "samples:  69%|██████▉   | 69/100 [14:45<06:36, 12.81s/it]\n",
      "lavam methods:   0%|          | 0/4 [00:00<?, ?it/s]\u001b[A\n",
      "lavam methods:  25%|██▌       | 1/4 [00:02<00:07,  2.41s/it]\u001b[A\n",
      "lavam methods:  50%|█████     | 2/4 [00:04<00:04,  2.17s/it]\u001b[A\n",
      "lavam methods:  75%|███████▌  | 3/4 [00:11<00:03,  3.89s/it]\u001b[A\n",
      "lavam methods: 100%|██████████| 4/4 [00:13<00:00,  3.43s/it]\u001b[A\n",
      "samples:  70%|███████   | 70/100 [14:59<06:35, 13.19s/it]\n",
      "lavam methods:   0%|          | 0/4 [00:00<?, ?it/s]\u001b[A\n",
      "lavam methods:  25%|██▌       | 1/4 [00:02<00:07,  2.55s/it]\u001b[A\n",
      "lavam methods:  50%|█████     | 2/4 [00:04<00:04,  2.24s/it]\u001b[A\n",
      "lavam methods:  75%|███████▌  | 3/4 [00:12<00:03,  3.99s/it]\u001b[A\n",
      "lavam methods: 100%|██████████| 4/4 [00:13<00:00,  3.40s/it]\u001b[A\n",
      "samples:  71%|███████   | 71/100 [15:13<06:30, 13.46s/it]\n",
      "lavam methods:   0%|          | 0/4 [00:00<?, ?it/s]\u001b[A\n",
      "lavam methods:  25%|██▌       | 1/4 [00:02<00:07,  2.53s/it]\u001b[A\n",
      "lavam methods:  50%|█████     | 2/4 [00:04<00:04,  2.26s/it]\u001b[A\n",
      "lavam methods:  75%|███████▌  | 3/4 [00:11<00:03,  3.79s/it]\u001b[A\n",
      "lavam methods: 100%|██████████| 4/4 [00:12<00:00,  3.23s/it]\u001b[A\n",
      "samples:  72%|███████▏  | 72/100 [15:26<06:14, 13.39s/it]\n",
      "lavam methods:   0%|          | 0/4 [00:00<?, ?it/s]\u001b[A\n",
      "lavam methods:  25%|██▌       | 1/4 [00:02<00:06,  2.08s/it]\u001b[A\n",
      "lavam methods:  50%|█████     | 2/4 [00:03<00:03,  1.84s/it]\u001b[A\n",
      "lavam methods:  75%|███████▌  | 3/4 [00:10<00:03,  3.45s/it]\u001b[A\n",
      "lavam methods: 100%|██████████| 4/4 [00:11<00:00,  2.99s/it]\u001b[A\n",
      "samples:  73%|███████▎  | 73/100 [15:38<05:52, 13.07s/it]\n",
      "lavam methods:   0%|          | 0/4 [00:00<?, ?it/s]\u001b[A\n",
      "lavam methods:  25%|██▌       | 1/4 [00:01<00:03,  1.08s/it]\u001b[A"
     ]
    },
    {
     "name": "stdout",
     "output_type": "stream",
     "text": [
      "Misclassification achieved at iteration 0, inner iteration 0\n"
     ]
    },
    {
     "name": "stderr",
     "output_type": "stream",
     "text": [
      "\n",
      "lavam methods:  50%|█████     | 2/4 [00:01<00:02,  1.03s/it]\u001b[A"
     ]
    },
    {
     "name": "stdout",
     "output_type": "stream",
     "text": [
      "Misclassification achieved at iteration 0, inner iteration 1\n"
     ]
    },
    {
     "name": "stderr",
     "output_type": "stream",
     "text": [
      "\n",
      "lavam methods:  75%|███████▌  | 3/4 [00:09<00:02,  2.89s/it]\u001b[A"
     ]
    },
    {
     "name": "stdout",
     "output_type": "stream",
     "text": [
      "Misclassification achieved at iteration 3, inner iteration 0\n"
     ]
    },
    {
     "name": "stderr",
     "output_type": "stream",
     "text": [
      "\n",
      "lavam methods: 100%|██████████| 4/4 [00:10<00:00,  2.68s/it]\u001b[A"
     ]
    },
    {
     "name": "stdout",
     "output_type": "stream",
     "text": [
      "Misclassification achieved at iteration 3, inner iteration 0\n"
     ]
    },
    {
     "name": "stderr",
     "output_type": "stream",
     "text": [
      "\n"
     ]
    },
    {
     "data": {
      "image/png": "[encoded data removed]",
      "text/plain": [
       "<Figure size 1500x500 with 5 Axes>"
      ]
     },
     "metadata": {},
     "output_type": "display_data"
    },
    {
     "name": "stderr",
     "output_type": "stream",
     "text": [
      "samples:  74%|███████▍  | 74/100 [15:50<05:27, 12.59s/it]\n",
      "lavam methods:   0%|          | 0/4 [00:00<?, ?it/s]\u001b[A"
     ]
    },
    {
     "name": "stdout",
     "output_type": "stream",
     "text": [
      "kl_lavam_vae_v: 1.1446597724037768\n",
      "kl_lavam_vae_g: 0.44487987205334356\n",
      "kl_lavam_cae_v: 0.2252826029252163\n",
      "kl_lavam_cae_g: 0.1864405265856961\n",
      "----------------------------------------------------------------\n",
      "ws_lavam_vae_v: 0.0006031889579564962\n",
      "ws_lavam_vae_g: 0.0006233274157237333\n",
      "ws_lavam_cae_v: 7.31406053514781e-05\n",
      "ws_lavam_cae_g: 0.0001227183999916277\n",
      "----------------------------------------------------------------\n",
      "js_lavam_vae_v: 0.6003292044014369\n",
      "js_lavam_vae_g: 0.21143720709371217\n",
      "js_lavam_cae_v: 0.13309730159557565\n",
      "js_lavam_cae_g: 0.10194605754354491\n",
      "----------------------------------------------------------------\n",
      "mse_lavam_vae_v: 0.1051013890753773\n",
      "mse_lavam_vae_g: 0.041781647653686194\n",
      "mse_lavam_cae_v: 0.016751684933099847\n",
      "mse_lavam_cae_g: 0.015307467192872575\n",
      "----------------------------------------------------------------\n"
     ]
    },
    {
     "name": "stderr",
     "output_type": "stream",
     "text": [
      "\n",
      "lavam methods:  25%|██▌       | 1/4 [00:01<00:03,  1.25s/it]\u001b[A"
     ]
    },
    {
     "name": "stdout",
     "output_type": "stream",
     "text": [
      "Misclassification achieved at iteration 1, inner iteration 0\n"
     ]
    },
    {
     "name": "stderr",
     "output_type": "stream",
     "text": [
      "\n",
      "lavam methods:  50%|█████     | 2/4 [00:01<00:02,  1.03s/it]\u001b[A"
     ]
    },
    {
     "name": "stdout",
     "output_type": "stream",
     "text": [
      "Misclassification achieved at iteration 0, inner iteration 0\n"
     ]
    },
    {
     "name": "stderr",
     "output_type": "stream",
     "text": [
      "\n",
      "lavam methods:  75%|███████▌  | 3/4 [00:09<00:02,  2.90s/it]\u001b[A\n",
      "lavam methods: 100%|██████████| 4/4 [00:10<00:00,  2.65s/it]\u001b[A\n",
      "samples:  75%|███████▌  | 75/100 [16:01<05:02, 12.10s/it]\n",
      "lavam methods:   0%|          | 0/4 [00:00<?, ?it/s]\u001b[A\n",
      "lavam methods:  25%|██▌       | 1/4 [00:02<00:07,  2.40s/it]\u001b[A\n",
      "lavam methods:  50%|█████     | 2/4 [00:03<00:04,  2.07s/it]\u001b[A\n",
      "lavam methods:  75%|███████▌  | 3/4 [00:10<00:03,  3.56s/it]\u001b[A\n",
      "lavam methods: 100%|██████████| 4/4 [00:12<00:00,  3.07s/it]\u001b[A\n",
      "samples:  76%|███████▌  | 76/100 [16:13<04:54, 12.26s/it]\n",
      "lavam methods:   0%|          | 0/4 [00:00<?, ?it/s]\u001b[A\n",
      "lavam methods:  25%|██▌       | 1/4 [00:02<00:08,  2.80s/it]\u001b[A"
     ]
    },
    {
     "name": "stdout",
     "output_type": "stream",
     "text": [
      "Misclassification achieved at iteration 1, inner iteration 4\n"
     ]
    },
    {
     "name": "stderr",
     "output_type": "stream",
     "text": [
      "\n",
      "lavam methods:  50%|█████     | 2/4 [00:04<00:04,  2.35s/it]\u001b[A"
     ]
    },
    {
     "name": "stdout",
     "output_type": "stream",
     "text": [
      "Misclassification achieved at iteration 1, inner iteration 1\n"
     ]
    },
    {
     "name": "stderr",
     "output_type": "stream",
     "text": [
      "\n",
      "lavam methods:  75%|███████▌  | 3/4 [00:12<00:04,  4.05s/it]\u001b[A\n",
      "lavam methods: 100%|██████████| 4/4 [00:13<00:00,  3.38s/it]\u001b[A\n",
      "samples:  77%|███████▋  | 77/100 [16:27<04:53, 12.75s/it]\n",
      "lavam methods:   0%|          | 0/4 [00:00<?, ?it/s]\u001b[A\n",
      "lavam methods:  25%|██▌       | 1/4 [00:02<00:06,  2.18s/it]\u001b[A\n",
      "lavam methods:  50%|█████     | 2/4 [00:03<00:03,  1.90s/it]\u001b[A\n",
      "lavam methods:  75%|███████▌  | 3/4 [00:10<00:03,  3.53s/it]\u001b[A\n",
      "lavam methods: 100%|██████████| 4/4 [00:12<00:00,  3.05s/it]\u001b[A\n",
      "samples:  78%|███████▊  | 78/100 [16:40<04:38, 12.67s/it]\n",
      "lavam methods:   0%|          | 0/4 [00:00<?, ?it/s]\u001b[A\n",
      "lavam methods:  25%|██▌       | 1/4 [00:01<00:04,  1.42s/it]\u001b[A"
     ]
    },
    {
     "name": "stdout",
     "output_type": "stream",
     "text": [
      "Misclassification achieved at iteration 1, inner iteration 0\n"
     ]
    },
    {
     "name": "stderr",
     "output_type": "stream",
     "text": [
      "\n",
      "lavam methods:  50%|█████     | 2/4 [00:02<00:02,  1.25s/it]\u001b[A"
     ]
    },
    {
     "name": "stdout",
     "output_type": "stream",
     "text": [
      "Misclassification achieved at iteration 1, inner iteration 1\n"
     ]
    },
    {
     "name": "stderr",
     "output_type": "stream",
     "text": [
      "\n",
      "lavam methods:  75%|███████▌  | 3/4 [00:09<00:03,  3.07s/it]\u001b[A\n",
      "lavam methods: 100%|██████████| 4/4 [00:11<00:00,  2.76s/it]\u001b[A\n",
      "samples:  79%|███████▉  | 79/100 [16:51<04:17, 12.28s/it]\n",
      "lavam methods:   0%|          | 0/4 [00:00<?, ?it/s]\u001b[A\n",
      "lavam methods:  25%|██▌       | 1/4 [00:02<00:06,  2.08s/it]\u001b[A\n",
      "lavam methods:  50%|█████     | 2/4 [00:03<00:03,  1.78s/it]\u001b[A\n",
      "lavam methods:  75%|███████▌  | 3/4 [00:10<00:03,  3.53s/it]\u001b[A\n",
      "lavam methods: 100%|██████████| 4/4 [00:12<00:00,  3.04s/it]\u001b[A\n",
      "samples:  80%|████████  | 80/100 [17:04<04:06, 12.34s/it]\n",
      "lavam methods:   0%|          | 0/4 [00:00<?, ?it/s]\u001b[A\n",
      "lavam methods:  25%|██▌       | 1/4 [00:02<00:06,  2.31s/it]\u001b[A\n",
      "lavam methods:  50%|█████     | 2/4 [00:03<00:04,  2.07s/it]\u001b[A\n",
      "lavam methods:  75%|███████▌  | 3/4 [00:11<00:03,  3.85s/it]\u001b[A\n",
      "lavam methods: 100%|██████████| 4/4 [00:13<00:00,  3.33s/it]\u001b[A\n",
      "samples:  81%|████████  | 81/100 [17:17<04:02, 12.74s/it]\n",
      "lavam methods:   0%|          | 0/4 [00:00<?, ?it/s]\u001b[A\n",
      "lavam methods:  25%|██▌       | 1/4 [00:00<00:02,  1.05it/s]\u001b[A"
     ]
    },
    {
     "name": "stdout",
     "output_type": "stream",
     "text": [
      "Misclassification achieved at iteration 0, inner iteration 0\n"
     ]
    },
    {
     "name": "stderr",
     "output_type": "stream",
     "text": [
      "\n",
      "lavam methods:  50%|█████     | 2/4 [00:01<00:01,  1.20it/s]\u001b[A"
     ]
    },
    {
     "name": "stdout",
     "output_type": "stream",
     "text": [
      "Misclassification achieved at iteration 0, inner iteration 0\n"
     ]
    },
    {
     "name": "stderr",
     "output_type": "stream",
     "text": [
      "\n",
      "lavam methods:  75%|███████▌  | 3/4 [00:08<00:02,  2.73s/it]\u001b[A\n",
      "lavam methods: 100%|██████████| 4/4 [00:10<00:00,  2.55s/it]\u001b[A\n",
      "samples:  82%|████████▏ | 82/100 [17:28<03:37, 12.10s/it]\n",
      "lavam methods:   0%|          | 0/4 [00:00<?, ?it/s]\u001b[A\n",
      "lavam methods:  25%|██▌       | 1/4 [00:02<00:06,  2.22s/it]\u001b[A\n",
      "lavam methods:  50%|█████     | 2/4 [00:03<00:03,  2.00s/it]\u001b[A\n",
      "lavam methods:  75%|███████▌  | 3/4 [00:10<00:03,  3.53s/it]\u001b[A\n",
      "lavam methods: 100%|██████████| 4/4 [00:12<00:00,  3.10s/it]\u001b[A\n",
      "samples:  83%|████████▎ | 83/100 [17:41<03:29, 12.30s/it]\n",
      "lavam methods:   0%|          | 0/4 [00:00<?, ?it/s]\u001b[A\n",
      "lavam methods:  25%|██▌       | 1/4 [00:02<00:06,  2.09s/it]\u001b[A\n",
      "lavam methods:  50%|█████     | 2/4 [00:03<00:03,  1.85s/it]\u001b[A\n",
      "lavam methods:  75%|███████▌  | 3/4 [00:10<00:03,  3.50s/it]\u001b[A\n",
      "lavam methods: 100%|██████████| 4/4 [00:12<00:00,  3.01s/it]\u001b[A\n",
      "samples:  84%|████████▍ | 84/100 [17:53<03:17, 12.35s/it]\n",
      "lavam methods:   0%|          | 0/4 [00:00<?, ?it/s]\u001b[A\n",
      "lavam methods:  25%|██▌       | 1/4 [00:01<00:05,  1.75s/it]\u001b[A"
     ]
    },
    {
     "name": "stdout",
     "output_type": "stream",
     "text": [
      "Misclassification achieved at iteration 1, inner iteration 1\n"
     ]
    },
    {
     "name": "stderr",
     "output_type": "stream",
     "text": [
      "\n",
      "lavam methods:  50%|█████     | 2/4 [00:02<00:03,  1.57s/it]\u001b[A"
     ]
    },
    {
     "name": "stdout",
     "output_type": "stream",
     "text": [
      "Misclassification achieved at iteration 2, inner iteration 0\n"
     ]
    },
    {
     "name": "stderr",
     "output_type": "stream",
     "text": [
      "\n",
      "lavam methods:  75%|███████▌  | 3/4 [00:10<00:03,  3.23s/it]\u001b[A\n",
      "lavam methods: 100%|██████████| 4/4 [00:11<00:00,  2.86s/it]\u001b[A\n",
      "samples:  85%|████████▌ | 85/100 [18:05<03:02, 12.18s/it]\n",
      "lavam methods:   0%|          | 0/4 [00:00<?, ?it/s]\u001b[A\n",
      "lavam methods:  25%|██▌       | 1/4 [00:02<00:06,  2.15s/it]\u001b[A\n",
      "lavam methods:  50%|█████     | 2/4 [00:03<00:03,  1.93s/it]\u001b[A\n",
      "lavam methods:  75%|███████▌  | 3/4 [00:10<00:03,  3.51s/it]\u001b[A\n",
      "lavam methods: 100%|██████████| 4/4 [00:11<00:00,  2.96s/it]\u001b[A\n",
      "samples:  86%|████████▌ | 86/100 [18:17<02:50, 12.20s/it]\n",
      "lavam methods:   0%|          | 0/4 [00:00<?, ?it/s]\u001b[A\n",
      "lavam methods:  25%|██▌       | 1/4 [00:02<00:07,  2.51s/it]\u001b[A\n",
      "lavam methods:  50%|█████     | 2/4 [00:03<00:04,  2.17s/it]\u001b[A\n",
      "lavam methods:  75%|███████▌  | 3/4 [00:11<00:03,  3.74s/it]\u001b[A\n",
      "lavam methods: 100%|██████████| 4/4 [00:12<00:00,  3.16s/it]\u001b[A\n",
      "samples:  87%|████████▋ | 87/100 [18:30<02:42, 12.47s/it]\n",
      "lavam methods:   0%|          | 0/4 [00:00<?, ?it/s]\u001b[A\n",
      "lavam methods:  25%|██▌       | 1/4 [00:00<00:02,  1.09it/s]\u001b[A"
     ]
    },
    {
     "name": "stdout",
     "output_type": "stream",
     "text": [
      "Misclassification achieved at iteration 0, inner iteration 0\n"
     ]
    },
    {
     "name": "stderr",
     "output_type": "stream",
     "text": [
      "\n",
      "lavam methods:  50%|█████     | 2/4 [00:01<00:01,  1.25it/s]\u001b[A"
     ]
    },
    {
     "name": "stdout",
     "output_type": "stream",
     "text": [
      "Misclassification achieved at iteration 0, inner iteration 0\n"
     ]
    },
    {
     "name": "stderr",
     "output_type": "stream",
     "text": [
      "\n",
      "lavam methods:  75%|███████▌  | 3/4 [00:08<00:02,  2.73s/it]\u001b[A\n",
      "lavam methods: 100%|██████████| 4/4 [00:09<00:00,  2.45s/it]\u001b[A\n",
      "samples:  88%|████████▊ | 88/100 [18:40<02:21, 11.76s/it]\n",
      "lavam methods:   0%|          | 0/4 [00:00<?, ?it/s]\u001b[A\n",
      "lavam methods:  25%|██▌       | 1/4 [00:02<00:06,  2.17s/it]\u001b[A\n",
      "lavam methods:  50%|█████     | 2/4 [00:03<00:03,  1.84s/it]\u001b[A\n",
      "lavam methods:  75%|███████▌  | 3/4 [00:10<00:03,  3.43s/it]\u001b[A\n",
      "lavam methods: 100%|██████████| 4/4 [00:11<00:00,  2.99s/it]\u001b[A\n",
      "samples:  89%|████████▉ | 89/100 [18:53<02:11, 11.92s/it]\n",
      "lavam methods:   0%|          | 0/4 [00:00<?, ?it/s]\u001b[A\n",
      "lavam methods:  25%|██▌       | 1/4 [00:02<00:06,  2.14s/it]\u001b[A\n",
      "lavam methods:  50%|█████     | 2/4 [00:03<00:03,  1.96s/it]\u001b[A\n",
      "lavam methods:  75%|███████▌  | 3/4 [00:10<00:03,  3.52s/it]\u001b[A\n",
      "lavam methods: 100%|██████████| 4/4 [00:12<00:00,  3.12s/it]\u001b[A\n",
      "samples:  90%|█████████ | 90/100 [19:05<02:02, 12.20s/it]\n",
      "lavam methods:   0%|          | 0/4 [00:00<?, ?it/s]\u001b[A\n",
      "lavam methods:  25%|██▌       | 1/4 [00:02<00:06,  2.17s/it]\u001b[A\n",
      "lavam methods:  50%|█████     | 2/4 [00:03<00:03,  1.82s/it]\u001b[A\n",
      "lavam methods:  75%|███████▌  | 3/4 [00:10<00:03,  3.45s/it]\u001b[A\n",
      "lavam methods: 100%|██████████| 4/4 [00:11<00:00,  2.92s/it]\u001b[A\n",
      "samples:  91%|█████████ | 91/100 [19:18<01:49, 12.15s/it]\n",
      "lavam methods:   0%|          | 0/4 [00:00<?, ?it/s]\u001b[A\n",
      "lavam methods:  25%|██▌       | 1/4 [00:02<00:06,  2.12s/it]\u001b[A\n",
      "lavam methods:  50%|█████     | 2/4 [00:03<00:03,  1.87s/it]\u001b[A\n",
      "lavam methods:  75%|███████▌  | 3/4 [00:10<00:03,  3.47s/it]\u001b[A\n",
      "lavam methods: 100%|██████████| 4/4 [00:12<00:00,  3.03s/it]\u001b[A\n",
      "samples:  92%|█████████▏| 92/100 [19:30<01:37, 12.24s/it]\n",
      "lavam methods:   0%|          | 0/4 [00:00<?, ?it/s]\u001b[A\n",
      "lavam methods:  25%|██▌       | 1/4 [00:02<00:07,  2.62s/it]\u001b[A"
     ]
    },
    {
     "name": "stdout",
     "output_type": "stream",
     "text": [
      "Misclassification achieved at iteration 3, inner iteration 1\n"
     ]
    },
    {
     "name": "stderr",
     "output_type": "stream",
     "text": [
      "\n",
      "lavam methods:  50%|█████     | 2/4 [00:04<00:04,  2.38s/it]\u001b[A"
     ]
    },
    {
     "name": "stdout",
     "output_type": "stream",
     "text": [
      "Misclassification achieved at iteration 3, inner iteration 2\n"
     ]
    },
    {
     "name": "stderr",
     "output_type": "stream",
     "text": [
      "\n",
      "lavam methods:  75%|███████▌  | 3/4 [00:11<00:03,  3.83s/it]\u001b[A\n",
      "lavam methods: 100%|██████████| 4/4 [00:13<00:00,  3.28s/it]\u001b[A\n",
      "samples:  93%|█████████▎| 93/100 [19:43<01:28, 12.63s/it]\n",
      "lavam methods:   0%|          | 0/4 [00:00<?, ?it/s]\u001b[A\n",
      "lavam methods:  25%|██▌       | 1/4 [00:02<00:06,  2.23s/it]\u001b[A\n",
      "lavam methods:  50%|█████     | 2/4 [00:03<00:03,  1.87s/it]\u001b[A\n",
      "lavam methods:  75%|███████▌  | 3/4 [00:10<00:03,  3.46s/it]\u001b[A\n",
      "lavam methods: 100%|██████████| 4/4 [00:11<00:00,  2.96s/it]\u001b[A\n",
      "samples:  94%|█████████▍| 94/100 [19:56<01:14, 12.49s/it]\n",
      "lavam methods:   0%|          | 0/4 [00:00<?, ?it/s]\u001b[A\n",
      "lavam methods:  25%|██▌       | 1/4 [00:02<00:06,  2.29s/it]\u001b[A\n",
      "lavam methods:  50%|█████     | 2/4 [00:03<00:04,  2.01s/it]\u001b[A\n",
      "lavam methods:  75%|███████▌  | 3/4 [00:11<00:03,  3.64s/it]\u001b[A\n",
      "lavam methods: 100%|██████████| 4/4 [00:12<00:00,  3.11s/it]\u001b[A\n",
      "samples:  95%|█████████▌| 95/100 [20:08<01:02, 12.59s/it]\n",
      "lavam methods:   0%|          | 0/4 [00:00<?, ?it/s]\u001b[A\n",
      "lavam methods:  25%|██▌       | 1/4 [00:02<00:06,  2.02s/it]\u001b[A\n",
      "lavam methods:  50%|█████     | 2/4 [00:03<00:03,  1.90s/it]\u001b[A"
     ]
    },
    {
     "name": "stdout",
     "output_type": "stream",
     "text": [
      "Misclassification achieved at iteration 4, inner iteration 0\n"
     ]
    },
    {
     "name": "stderr",
     "output_type": "stream",
     "text": [
      "\n",
      "lavam methods:  75%|███████▌  | 3/4 [00:11<00:03,  3.74s/it]\u001b[A\n",
      "lavam methods: 100%|██████████| 4/4 [00:13<00:00,  3.27s/it]\u001b[A\n",
      "samples:  96%|█████████▌| 96/100 [20:22<00:51, 12.83s/it]\n",
      "lavam methods:   0%|          | 0/4 [00:00<?, ?it/s]\u001b[A\n",
      "lavam methods:  25%|██▌       | 1/4 [00:02<00:06,  2.28s/it]\u001b[A\n",
      "lavam methods:  50%|█████     | 2/4 [00:03<00:03,  1.97s/it]\u001b[A\n",
      "lavam methods:  75%|███████▌  | 3/4 [00:10<00:03,  3.56s/it]\u001b[A\n",
      "lavam methods: 100%|██████████| 4/4 [00:11<00:00,  2.99s/it]\u001b[A\n",
      "samples:  97%|█████████▋| 97/100 [20:34<00:37, 12.67s/it]\n",
      "lavam methods:   0%|          | 0/4 [00:00<?, ?it/s]\u001b[A\n",
      "lavam methods:  25%|██▌       | 1/4 [00:02<00:06,  2.16s/it]\u001b[A\n",
      "lavam methods:  50%|█████     | 2/4 [00:03<00:03,  1.88s/it]\u001b[A\n",
      "lavam methods:  75%|███████▌  | 3/4 [00:10<00:03,  3.52s/it]\u001b[A\n",
      "lavam methods: 100%|██████████| 4/4 [00:11<00:00,  2.99s/it]\u001b[A\n",
      "samples:  98%|█████████▊| 98/100 [20:47<00:25, 12.57s/it]\n",
      "lavam methods:   0%|          | 0/4 [00:00<?, ?it/s]\u001b[A\n",
      "lavam methods:  25%|██▌       | 1/4 [00:02<00:07,  2.33s/it]\u001b[A\n",
      "lavam methods:  50%|█████     | 2/4 [00:03<00:04,  2.03s/it]\u001b[A\n",
      "lavam methods:  75%|███████▌  | 3/4 [00:10<00:03,  3.60s/it]\u001b[A\n",
      "lavam methods: 100%|██████████| 4/4 [00:12<00:00,  3.08s/it]\u001b[A\n",
      "samples:  99%|█████████▉| 99/100 [20:59<00:12, 12.63s/it]\n",
      "lavam methods:   0%|          | 0/4 [00:00<?, ?it/s]\u001b[A\n",
      "lavam methods:  25%|██▌       | 1/4 [00:02<00:06,  2.29s/it]\u001b[A\n",
      "lavam methods:  50%|█████     | 2/4 [00:03<00:03,  2.00s/it]\u001b[A\n",
      "lavam methods:  75%|███████▌  | 3/4 [00:10<00:03,  3.60s/it]\u001b[A\n",
      "lavam methods: 100%|██████████| 4/4 [00:12<00:00,  3.07s/it]\u001b[A\n",
      "samples: 100%|██████████| 100/100 [21:12<00:00, 12.72s/it]\n"
     ]
    }
   ],
   "source": [
    "tf.keras.backend.set_learning_phase(0)\n",
    "\n",
    "predicted_labels_list = []\n",
    "results = []\n",
    "# Start experiment\n",
    "for i in tqdm(range(len(samples)), desc=\"samples\"):\n",
    "    result = dict()\n",
    "    result[\"index\"] = i\n",
    "    result[\"index_in_dataset\"] = sample_indices[i]\n",
    "\n",
    "    image_org, label_org = samples[i], sample_labels[i]\n",
    "\n",
    "    # Generate adversarial images\n",
    "    adversarial_images = {}\n",
    "    for key, lava in tqdm(lava_instances.items(), desc=\"lavam methods\"):\n",
    "        start = time.time()\n",
    "        image = lava.generate_adversarial_image(image_org, y_onehot[i], alpha=0.5, num_iterations=5)[0]\n",
    "        end = time.time()\n",
    "        result[f\"t_{key}\"] = end - start\n",
    "        adversarial_images.update({key: image})\n",
    "\n",
    "    # Predict labels for adversarial images\n",
    "    predicted_labels = {\n",
    "        key: np.argmax(cnn.predict(np.array([img]))[0])\n",
    "        for key, img in adversarial_images.items()\n",
    "    }\n",
    "    predicted_labels_list.append(predicted_labels)\n",
    "\n",
    "    # Plot the images if original label differs from all adversarial labels\n",
    "    if label_org not in predicted_labels.values():\n",
    "        images = [image_org] + list(adversarial_images.values())\n",
    "        labels = [label_org] + list(predicted_labels.values())\n",
    "        markers = [\"org\"] + list(adversarial_images.keys())\n",
    "        plot_image_comparison(images, labels, markers)\n",
    "\n",
    "        # In image space\n",
    "        divergence_functions = {\n",
    "            \"kl\": kl_divergence,\n",
    "            \"ws\": ws_distance,\n",
    "            \"js\": js_divergence,\n",
    "            \"mse\": mse_loss,\n",
    "            # \"xentropy\", cross_entropy,\n",
    "        }\n",
    "\n",
    "        for name, func in divergence_functions.items():\n",
    "            divergences = {key: func(image_org, img) for key, img in adversarial_images.items()}\n",
    "            for key, value in divergences.items():\n",
    "                result[f\"{name}_{key}\"] = value\n",
    "                print(f\"{name}_{key}: {value}\")\n",
    "            print(\"-\" * 64)\n",
    "\n",
    "        results.append(result)\n",
    "\n",
    "        \"\"\"\n",
    "        # In latent space\n",
    "        h = vae.encoder.predict([np.reshape([image_org], (784, ))])[0]\n",
    "        latent_h = {\n",
    "            key: vae.encoder.predict([np.reshape([img], (784, ))])[0]\n",
    "            for key, img in adversarial_images.items()\n",
    "        }\n",
    "        latent_h[\"lava\"] = h_lava  # Use h_lava directly for lava\n",
    "\n",
    "        distances = {\n",
    "            key: np.linalg.norm(h - latent_h[key])\n",
    "            for key in latent_h.keys()\n",
    "        }\n",
    "\n",
    "        for key, dist in distances.items():\n",
    "            print(f\"d_{key}: {dist}\")\n",
    "        \"\"\""
   ]
  },
  {
   "cell_type": "code",
   "execution_count": 6,
   "id": "6df8644b",
   "metadata": {},
   "outputs": [
    {
     "name": "stdout",
     "output_type": "stream",
     "text": [
      "{'lavam_vae_v': 0.35, 'lavam_vae_g': 0.36, 'lavam_cae_v': 0.08, 'lavam_cae_g': 0.08}\n"
     ]
    }
   ],
   "source": [
    "# Calculate success ratios\n",
    "success_ratios = calculate_success_ratio(predicted_labels_list, sample_labels)\n",
    "\n",
    "# Print or return the success ratios\n",
    "print(success_ratios)\n",
    "\n",
    "results_df = pd.DataFrame(results)\n"
   ]
  },
  {
   "cell_type": "code",
   "execution_count": 7,
   "id": "b1a80690",
   "metadata": {},
   "outputs": [
    {
     "data": {
      "text/html": [
       "<div>\n",
       "<style scoped>\n",
       "    .dataframe tbody tr th:only-of-type {\n",
       "        vertical-align: middle;\n",
       "    }\n",
       "\n",
       "    .dataframe tbody tr th {\n",
       "        vertical-align: top;\n",
       "    }\n",
       "\n",
       "    .dataframe thead th {\n",
       "        text-align: right;\n",
       "    }\n",
       "</style>\n",
       "<table border=\"1\" class=\"dataframe\">\n",
       "  <thead>\n",
       "    <tr style=\"text-align: right;\">\n",
       "      <th></th>\n",
       "      <th>index</th>\n",
       "      <th>index_in_dataset</th>\n",
       "      <th>t_lavam_vae_v</th>\n",
       "      <th>t_lavam_vae_g</th>\n",
       "      <th>t_lavam_cae_v</th>\n",
       "      <th>t_lavam_cae_g</th>\n",
       "      <th>kl_lavam_vae_v</th>\n",
       "      <th>kl_lavam_vae_g</th>\n",
       "      <th>kl_lavam_cae_v</th>\n",
       "      <th>kl_lavam_cae_g</th>\n",
       "      <th>...</th>\n",
       "      <th>ws_lavam_cae_v</th>\n",
       "      <th>ws_lavam_cae_g</th>\n",
       "      <th>js_lavam_vae_v</th>\n",
       "      <th>js_lavam_vae_g</th>\n",
       "      <th>js_lavam_cae_v</th>\n",
       "      <th>js_lavam_cae_g</th>\n",
       "      <th>mse_lavam_vae_v</th>\n",
       "      <th>mse_lavam_vae_g</th>\n",
       "      <th>mse_lavam_cae_v</th>\n",
       "      <th>mse_lavam_cae_g</th>\n",
       "    </tr>\n",
       "  </thead>\n",
       "  <tbody>\n",
       "    <tr>\n",
       "      <th>0</th>\n",
       "      <td>10</td>\n",
       "      <td>9534</td>\n",
       "      <td>2.272869</td>\n",
       "      <td>0.894057</td>\n",
       "      <td>8.041302</td>\n",
       "      <td>1.780850</td>\n",
       "      <td>7.759322</td>\n",
       "      <td>0.124215</td>\n",
       "      <td>0.106426</td>\n",
       "      <td>0.098654</td>\n",
       "      <td>...</td>\n",
       "      <td>0.000076</td>\n",
       "      <td>0.000094</td>\n",
       "      <td>4.069982</td>\n",
       "      <td>0.084386</td>\n",
       "      <td>0.084065</td>\n",
       "      <td>0.076910</td>\n",
       "      <td>0.109777</td>\n",
       "      <td>0.008824</td>\n",
       "      <td>0.006283</td>\n",
       "      <td>0.005931</td>\n",
       "    </tr>\n",
       "    <tr>\n",
       "      <th>1</th>\n",
       "      <td>22</td>\n",
       "      <td>1642</td>\n",
       "      <td>0.879385</td>\n",
       "      <td>0.568395</td>\n",
       "      <td>11.917893</td>\n",
       "      <td>1.859899</td>\n",
       "      <td>1.948645</td>\n",
       "      <td>1.066118</td>\n",
       "      <td>0.210373</td>\n",
       "      <td>0.190408</td>\n",
       "      <td>...</td>\n",
       "      <td>0.000135</td>\n",
       "      <td>0.000101</td>\n",
       "      <td>1.156164</td>\n",
       "      <td>0.691288</td>\n",
       "      <td>0.174537</td>\n",
       "      <td>0.152686</td>\n",
       "      <td>0.149217</td>\n",
       "      <td>0.051939</td>\n",
       "      <td>0.019777</td>\n",
       "      <td>0.016623</td>\n",
       "    </tr>\n",
       "    <tr>\n",
       "      <th>2</th>\n",
       "      <td>27</td>\n",
       "      <td>7541</td>\n",
       "      <td>0.857981</td>\n",
       "      <td>0.578303</td>\n",
       "      <td>6.755707</td>\n",
       "      <td>1.562024</td>\n",
       "      <td>1.846821</td>\n",
       "      <td>0.705329</td>\n",
       "      <td>0.468127</td>\n",
       "      <td>0.272876</td>\n",
       "      <td>...</td>\n",
       "      <td>0.000294</td>\n",
       "      <td>0.000203</td>\n",
       "      <td>1.034129</td>\n",
       "      <td>0.406528</td>\n",
       "      <td>0.327315</td>\n",
       "      <td>0.178263</td>\n",
       "      <td>0.057503</td>\n",
       "      <td>0.033401</td>\n",
       "      <td>0.022154</td>\n",
       "      <td>0.014446</td>\n",
       "    </tr>\n",
       "    <tr>\n",
       "      <th>3</th>\n",
       "      <td>39</td>\n",
       "      <td>4096</td>\n",
       "      <td>0.856333</td>\n",
       "      <td>0.502050</td>\n",
       "      <td>4.299418</td>\n",
       "      <td>0.990253</td>\n",
       "      <td>0.653813</td>\n",
       "      <td>0.697184</td>\n",
       "      <td>0.559089</td>\n",
       "      <td>0.478499</td>\n",
       "      <td>...</td>\n",
       "      <td>0.000304</td>\n",
       "      <td>0.000259</td>\n",
       "      <td>0.297935</td>\n",
       "      <td>0.348670</td>\n",
       "      <td>0.343112</td>\n",
       "      <td>0.265885</td>\n",
       "      <td>0.036032</td>\n",
       "      <td>0.031815</td>\n",
       "      <td>0.031873</td>\n",
       "      <td>0.026823</td>\n",
       "    </tr>\n",
       "    <tr>\n",
       "      <th>4</th>\n",
       "      <td>40</td>\n",
       "      <td>5947</td>\n",
       "      <td>2.292071</td>\n",
       "      <td>0.842777</td>\n",
       "      <td>10.031369</td>\n",
       "      <td>1.812568</td>\n",
       "      <td>5.092846</td>\n",
       "      <td>0.251013</td>\n",
       "      <td>0.170015</td>\n",
       "      <td>0.163982</td>\n",
       "      <td>...</td>\n",
       "      <td>0.000102</td>\n",
       "      <td>0.000094</td>\n",
       "      <td>3.205561</td>\n",
       "      <td>0.112837</td>\n",
       "      <td>0.098015</td>\n",
       "      <td>0.089242</td>\n",
       "      <td>0.161476</td>\n",
       "      <td>0.033299</td>\n",
       "      <td>0.019069</td>\n",
       "      <td>0.018040</td>\n",
       "    </tr>\n",
       "    <tr>\n",
       "      <th>5</th>\n",
       "      <td>58</td>\n",
       "      <td>3384</td>\n",
       "      <td>1.000077</td>\n",
       "      <td>0.518828</td>\n",
       "      <td>7.231324</td>\n",
       "      <td>1.322423</td>\n",
       "      <td>12.142815</td>\n",
       "      <td>2.610195</td>\n",
       "      <td>0.752370</td>\n",
       "      <td>0.743154</td>\n",
       "      <td>...</td>\n",
       "      <td>0.000158</td>\n",
       "      <td>0.000103</td>\n",
       "      <td>6.188357</td>\n",
       "      <td>1.344012</td>\n",
       "      <td>0.472917</td>\n",
       "      <td>0.458522</td>\n",
       "      <td>0.116001</td>\n",
       "      <td>0.053386</td>\n",
       "      <td>0.024184</td>\n",
       "      <td>0.024169</td>\n",
       "    </tr>\n",
       "    <tr>\n",
       "      <th>6</th>\n",
       "      <td>62</td>\n",
       "      <td>1956</td>\n",
       "      <td>0.774242</td>\n",
       "      <td>0.592059</td>\n",
       "      <td>5.843904</td>\n",
       "      <td>1.085862</td>\n",
       "      <td>23.683176</td>\n",
       "      <td>0.455582</td>\n",
       "      <td>0.358425</td>\n",
       "      <td>0.343437</td>\n",
       "      <td>...</td>\n",
       "      <td>0.000091</td>\n",
       "      <td>0.000085</td>\n",
       "      <td>11.928799</td>\n",
       "      <td>0.271224</td>\n",
       "      <td>0.251810</td>\n",
       "      <td>0.241302</td>\n",
       "      <td>0.223472</td>\n",
       "      <td>0.028231</td>\n",
       "      <td>0.020050</td>\n",
       "      <td>0.019712</td>\n",
       "    </tr>\n",
       "    <tr>\n",
       "      <th>7</th>\n",
       "      <td>73</td>\n",
       "      <td>3172</td>\n",
       "      <td>1.079305</td>\n",
       "      <td>0.896278</td>\n",
       "      <td>7.249582</td>\n",
       "      <td>1.500080</td>\n",
       "      <td>1.144660</td>\n",
       "      <td>0.444880</td>\n",
       "      <td>0.225283</td>\n",
       "      <td>0.186441</td>\n",
       "      <td>...</td>\n",
       "      <td>0.000073</td>\n",
       "      <td>0.000123</td>\n",
       "      <td>0.600329</td>\n",
       "      <td>0.211437</td>\n",
       "      <td>0.133097</td>\n",
       "      <td>0.101946</td>\n",
       "      <td>0.105101</td>\n",
       "      <td>0.041782</td>\n",
       "      <td>0.016752</td>\n",
       "      <td>0.015307</td>\n",
       "    </tr>\n",
       "  </tbody>\n",
       "</table>\n",
       "<p>8 rows × 22 columns</p>\n",
       "</div>"
      ],
      "text/plain": [
       "   index  index_in_dataset  t_lavam_vae_v  t_lavam_vae_g  t_lavam_cae_v  \\\n",
       "0     10              9534       2.272869       0.894057       8.041302   \n",
       "1     22              1642       0.879385       0.568395      11.917893   \n",
       "2     27              7541       0.857981       0.578303       6.755707   \n",
       "3     39              4096       0.856333       0.502050       4.299418   \n",
       "4     40              5947       2.292071       0.842777      10.031369   \n",
       "5     58              3384       1.000077       0.518828       7.231324   \n",
       "6     62              1956       0.774242       0.592059       5.843904   \n",
       "7     73              3172       1.079305       0.896278       7.249582   \n",
       "\n",
       "   t_lavam_cae_g  kl_lavam_vae_v  kl_lavam_vae_g  kl_lavam_cae_v  \\\n",
       "0       1.780850        7.759322        0.124215        0.106426   \n",
       "1       1.859899        1.948645        1.066118        0.210373   \n",
       "2       1.562024        1.846821        0.705329        0.468127   \n",
       "3       0.990253        0.653813        0.697184        0.559089   \n",
       "4       1.812568        5.092846        0.251013        0.170015   \n",
       "5       1.322423       12.142815        2.610195        0.752370   \n",
       "6       1.085862       23.683176        0.455582        0.358425   \n",
       "7       1.500080        1.144660        0.444880        0.225283   \n",
       "\n",
       "   kl_lavam_cae_g  ...  ws_lavam_cae_v  ws_lavam_cae_g  js_lavam_vae_v  \\\n",
       "0        0.098654  ...        0.000076        0.000094        4.069982   \n",
       "1        0.190408  ...        0.000135        0.000101        1.156164   \n",
       "2        0.272876  ...        0.000294        0.000203        1.034129   \n",
       "3        0.478499  ...        0.000304        0.000259        0.297935   \n",
       "4        0.163982  ...        0.000102        0.000094        3.205561   \n",
       "5        0.743154  ...        0.000158        0.000103        6.188357   \n",
       "6        0.343437  ...        0.000091        0.000085       11.928799   \n",
       "7        0.186441  ...        0.000073        0.000123        0.600329   \n",
       "\n",
       "   js_lavam_vae_g  js_lavam_cae_v  js_lavam_cae_g  mse_lavam_vae_v  \\\n",
       "0        0.084386        0.084065        0.076910         0.109777   \n",
       "1        0.691288        0.174537        0.152686         0.149217   \n",
       "2        0.406528        0.327315        0.178263         0.057503   \n",
       "3        0.348670        0.343112        0.265885         0.036032   \n",
       "4        0.112837        0.098015        0.089242         0.161476   \n",
       "5        1.344012        0.472917        0.458522         0.116001   \n",
       "6        0.271224        0.251810        0.241302         0.223472   \n",
       "7        0.211437        0.133097        0.101946         0.105101   \n",
       "\n",
       "   mse_lavam_vae_g  mse_lavam_cae_v  mse_lavam_cae_g  \n",
       "0         0.008824         0.006283         0.005931  \n",
       "1         0.051939         0.019777         0.016623  \n",
       "2         0.033401         0.022154         0.014446  \n",
       "3         0.031815         0.031873         0.026823  \n",
       "4         0.033299         0.019069         0.018040  \n",
       "5         0.053386         0.024184         0.024169  \n",
       "6         0.028231         0.020050         0.019712  \n",
       "7         0.041782         0.016752         0.015307  \n",
       "\n",
       "[8 rows x 22 columns]"
      ]
     },
     "execution_count": 7,
     "metadata": {},
     "output_type": "execute_result"
    }
   ],
   "source": [
    "results_df"
   ]
  },
  {
   "cell_type": "code",
   "execution_count": null,
   "id": "6d7777d1",
   "metadata": {},
   "outputs": [],
   "source": []
  }
 ],
 "metadata": {
  "kernelspec": {
   "display_name": "congyutf",
   "language": "python",
   "name": "congyutf"
  },
  "language_info": {
   "codemirror_mode": {
    "name": "ipython",
    "version": 3
   },
   "file_extension": ".py",
   "mimetype": "text/x-python",
   "name": "python",
   "nbconvert_exporter": "python",
   "pygments_lexer": "ipython3",
   "version": "3.9.5"
  }
 },
 "nbformat": 4,
 "nbformat_minor": 5
}
