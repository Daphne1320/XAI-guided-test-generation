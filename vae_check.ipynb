{
 "cells": [
  {
   "cell_type": "code",
   "execution_count": 8,
   "id": "ddbb7f58",
   "metadata": {},
   "outputs": [],
   "source": [
    "import numpy as np\n",
    "import tensorflow as tf\n",
    "from validity_check import *\n",
    "from validity_check.validity_check_xmutant import compute_valid"
   ]
  },
  {
   "cell_type": "code",
   "execution_count": 9,
   "id": "26dc6d51",
   "metadata": {},
   "outputs": [],
   "source": [
    " VAE = \"mnist_vae_all_classes\"\n",
    "# VAE = \"mnist_vae_stocco_all_classes\"\n",
    "decoder = tf.keras.models.load_model(\"./validity_check/trained/\" + VAE + \"/decoder\", compile=False)\n",
    "encoder = tf.keras.models.load_model(\"./validity_check/trained/\" + VAE + \"/encoder\", compile=False)"
   ]
  },
  {
   "cell_type": "code",
   "execution_count": 10,
   "id": "051cf1df",
   "metadata": {},
   "outputs": [],
   "source": [
    "image = np.random.randn(784).reshape((28,28,1))"
   ]
  },
  {
   "cell_type": "code",
   "execution_count": 4,
   "id": "de4fe8b3",
   "metadata": {},
   "outputs": [],
   "source": [
    "vae_threshold=0.26608911681183206"
   ]
  },
  {
   "cell_type": "code",
   "execution_count": 11,
   "id": "86afde2a",
   "metadata": {},
   "outputs": [
    {
     "name": "stderr",
     "output_type": "stream",
     "text": [
      "2024-07-04 15:42:04.710078: I tensorflow/compiler/mlir/mlir_graph_optimization_pass.cc:185] None of the MLIR Optimization Passes are enabled (registered 2)\n"
     ]
    }
   ],
   "source": [
    "distr, loss = compute_valid(image, encoder, decoder, vae_threshold)\n"
   ]
  },
  {
   "cell_type": "code",
   "execution_count": 12,
   "id": "a5d0a3e8",
   "metadata": {},
   "outputs": [
    {
     "name": "stdout",
     "output_type": "stream",
     "text": [
      "2.3477197\n"
     ]
    }
   ],
   "source": [
    "print(loss)"
   ]
  },
  {
   "cell_type": "code",
   "execution_count": 13,
   "id": "c1351a30",
   "metadata": {},
   "outputs": [
    {
     "name": "stdout",
     "output_type": "stream",
     "text": [
      "ood\n"
     ]
    }
   ],
   "source": [
    "print(distr)"
   ]
  },
  {
   "cell_type": "code",
   "execution_count": null,
   "id": "dd359e45",
   "metadata": {},
   "outputs": [],
   "source": []
  }
 ],
 "metadata": {
  "kernelspec": {
   "display_name": "congyuAI",
   "language": "python",
   "name": "congyuai"
  },
  "language_info": {
   "codemirror_mode": {
    "name": "ipython",
    "version": 3
   },
   "file_extension": ".py",
   "mimetype": "text/x-python",
   "name": "python",
   "nbconvert_exporter": "python",
   "pygments_lexer": "ipython3",
   "version": "3.9.5"
  }
 },
 "nbformat": 4,
 "nbformat_minor": 5
}
