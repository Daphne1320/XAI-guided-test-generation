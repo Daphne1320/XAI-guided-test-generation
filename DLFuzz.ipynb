{
 "cells": [
  {
   "cell_type": "code",
   "execution_count": 3,
   "id": "3184d771",
   "metadata": {},
   "outputs": [],
   "source": [
    "from DLFuzz.gen_diff import *"
   ]
  },
  {
   "cell_type": "code",
   "execution_count": 5,
   "id": "a7d84bec",
   "metadata": {},
   "outputs": [
    {
     "name": "stderr",
     "output_type": "stream",
     "text": [
      "2024-05-03 17:15:28.873012: I tensorflow/core/common_runtime/pluggable_device/pluggable_device_factory.cc:305] Could not identify NUMA node of platform GPU ID 0, defaulting to 0. Your kernel may not have been built with NUMA support.\n",
      "2024-05-03 17:15:28.875249: I tensorflow/core/common_runtime/pluggable_device/pluggable_device_factory.cc:271] Created TensorFlow device (/job:localhost/replica:0/task:0/device:GPU:0 with 0 MB memory) -> physical PluggableDevice (device: 0, name: METAL, pci bus id: <undefined>)\n"
     ]
    },
    {
     "name": "stdout",
     "output_type": "stream",
     "text": [
      "Metal device set to: Apple M1\n"
     ]
    },
    {
     "name": "stderr",
     "output_type": "stream",
     "text": [
      "/Users/shangsufeng/anaconda3/envs/bachelor/lib/python3.10/site-packages/keras/backend.py:450: UserWarning: `tf.keras.backend.set_learning_phase` is deprecated and will be removed after 2020-10-11. To update it, simply pass a True/False value to the `training` argument of the `__call__` method of your layer or model.\n",
      "  warnings.warn('`tf.keras.backend.set_learning_phase` is deprecated and '\n",
      "/Users/shangsufeng/anaconda3/envs/bachelor/lib/python3.10/site-packages/keras/utils/image_utils.py:382: UserWarning: grayscale is deprecated. Please use color_mode = \"grayscale\"\n",
      "  warnings.warn('grayscale is deprecated. Please use '\n"
     ]
    },
    {
     "name": "stdout",
     "output_type": "stream",
     "text": [
      "./DLFuzz/seeds_50/14245_7.png\n",
      "Unexpected exception formatting exception. Falling back to standard exception\n"
     ]
    },
    {
     "name": "stderr",
     "output_type": "stream",
     "text": [
      "Traceback (most recent call last):\n",
      "  File \"/Users/shangsufeng/anaconda3/envs/bachelor/lib/python3.10/site-packages/IPython/core/interactiveshell.py\", line 3553, in run_code\n",
      "    exec(code_obj, self.user_global_ns, self.user_ns)\n",
      "  File \"/var/folders/1y/h3krc4555fb4bpg9s7xjjwrr0000gn/T/ipykernel_67274/2455160931.py\", line 35, in <module>\n",
      "    gen_img = dlfuzz.generate_fuzzy_image(tmp_img)\n",
      "  File \"/Users/shangsufeng/Documents/Bachelor Thesis/XAI-guided-test-generation/DLFuzz/gen_diff.py\", line 448, in generate_fuzzy_image\n",
      "    self.update_coverage(tmp_img, self.model, self.model_layer_times2, self.threshold)\n",
      "  File \"/Users/shangsufeng/Documents/Bachelor Thesis/XAI-guided-test-generation/DLFuzz/gen_diff.py\", line 163, in update_coverage\n",
      "    intermediate_layer_model = Model(inputs=model.input,\n",
      "  File \"/Users/shangsufeng/anaconda3/envs/bachelor/lib/python3.10/site-packages/tensorflow/python/training/tracking/base.py\", line 587, in _method_wrapper\n",
      "    result = method(self, *args, **kwargs)\n",
      "  File \"/Users/shangsufeng/anaconda3/envs/bachelor/lib/python3.10/site-packages/keras/engine/functional.py\", line 145, in __init__\n",
      "    if not all([functional_utils.is_input_keras_tensor(t)\n",
      "  File \"/Users/shangsufeng/anaconda3/envs/bachelor/lib/python3.10/site-packages/keras/engine/functional.py\", line 145, in <listcomp>\n",
      "    if not all([functional_utils.is_input_keras_tensor(t)\n",
      "  File \"/Users/shangsufeng/anaconda3/envs/bachelor/lib/python3.10/site-packages/keras/engine/functional_utils.py\", line 48, in is_input_keras_tensor\n",
      "    return tensor.node.is_input\n",
      "AttributeError: 'KerasTensor' object has no attribute 'node'\n",
      "\n",
      "During handling of the above exception, another exception occurred:\n",
      "\n",
      "Traceback (most recent call last):\n",
      "  File \"/Users/shangsufeng/anaconda3/envs/bachelor/lib/python3.10/site-packages/IPython/core/interactiveshell.py\", line 2144, in showtraceback\n",
      "    stb = self.InteractiveTB.structured_traceback(\n",
      "  File \"/Users/shangsufeng/anaconda3/envs/bachelor/lib/python3.10/site-packages/IPython/core/ultratb.py\", line 1435, in structured_traceback\n",
      "    return FormattedTB.structured_traceback(\n",
      "  File \"/Users/shangsufeng/anaconda3/envs/bachelor/lib/python3.10/site-packages/IPython/core/ultratb.py\", line 1326, in structured_traceback\n",
      "    return VerboseTB.structured_traceback(\n",
      "  File \"/Users/shangsufeng/anaconda3/envs/bachelor/lib/python3.10/site-packages/IPython/core/ultratb.py\", line 1173, in structured_traceback\n",
      "    formatted_exception = self.format_exception_as_a_whole(etype, evalue, etb, number_of_lines_of_context,\n",
      "  File \"/Users/shangsufeng/anaconda3/envs/bachelor/lib/python3.10/site-packages/IPython/core/ultratb.py\", line 1088, in format_exception_as_a_whole\n",
      "    frames.append(self.format_record(record))\n",
      "  File \"/Users/shangsufeng/anaconda3/envs/bachelor/lib/python3.10/site-packages/IPython/core/ultratb.py\", line 970, in format_record\n",
      "    frame_info.lines, Colors, self.has_colors, lvals\n",
      "  File \"/Users/shangsufeng/anaconda3/envs/bachelor/lib/python3.10/site-packages/IPython/core/ultratb.py\", line 792, in lines\n",
      "    return self._sd.lines\n",
      "  File \"/Users/shangsufeng/anaconda3/envs/bachelor/lib/python3.10/site-packages/stack_data/utils.py\", line 145, in cached_property_wrapper\n",
      "    value = obj.__dict__[self.func.__name__] = self.func(obj)\n",
      "  File \"/Users/shangsufeng/anaconda3/envs/bachelor/lib/python3.10/site-packages/stack_data/core.py\", line 698, in lines\n",
      "    pieces = self.included_pieces\n",
      "  File \"/Users/shangsufeng/anaconda3/envs/bachelor/lib/python3.10/site-packages/stack_data/utils.py\", line 145, in cached_property_wrapper\n",
      "    value = obj.__dict__[self.func.__name__] = self.func(obj)\n",
      "  File \"/Users/shangsufeng/anaconda3/envs/bachelor/lib/python3.10/site-packages/stack_data/core.py\", line 649, in included_pieces\n",
      "    pos = scope_pieces.index(self.executing_piece)\n",
      "  File \"/Users/shangsufeng/anaconda3/envs/bachelor/lib/python3.10/site-packages/stack_data/utils.py\", line 145, in cached_property_wrapper\n",
      "    value = obj.__dict__[self.func.__name__] = self.func(obj)\n",
      "  File \"/Users/shangsufeng/anaconda3/envs/bachelor/lib/python3.10/site-packages/stack_data/core.py\", line 628, in executing_piece\n",
      "    return only(\n",
      "  File \"/Users/shangsufeng/anaconda3/envs/bachelor/lib/python3.10/site-packages/executing/executing.py\", line 164, in only\n",
      "    raise NotOneValueFound('Expected one value, found 0')\n",
      "executing.executing.NotOneValueFound: Expected one value, found 0\n"
     ]
    }
   ],
   "source": [
    "    from tensorflow.python.keras.models import clone_model, load_model\n",
    "# parameters\n",
    "    # e.g.[0,1,2] None for neurons not covered, 0 for covered often, 1 for covered rarely, 2 for high weights\n",
    "\n",
    "    neuron_select_strategy, threshold, neuron_to_cover_num, subdir, iteration_times, model_name = [2], 0.5, 5, \"0602\", 5, \"model1\"\n",
    "\n",
    "    neuron_to_cover_weight = 0.5\n",
    "    predict_weight = 0.5\n",
    "    learning_step = 0.02\n",
    "\n",
    "    # input image dimensions\n",
    "    img_rows, img_cols = 28, 28\n",
    "    input_shape = (img_rows, img_cols, 1)\n",
    "\n",
    "    model = load_model(\"trained_models/CNN/classifier.h5\")\n",
    "\n",
    "    img_dir = './DLFuzz/seeds_50'\n",
    "    img_paths = os.listdir(img_dir)\n",
    "    img_num = len(img_paths)\n",
    "\n",
    "    save_dir = './generated_inputs/' + subdir + '/'\n",
    "    clear_up_dir(save_dir)\n",
    "\n",
    "    K.set_learning_phase(0)\n",
    "    dlfuzz = DLFuzz(model, neuron_select_strategy, threshold, neuron_to_cover_num, iteration_times,\n",
    "                    neuron_to_cover_weight)\n",
    "\n",
    "    for i, img_path in enumerate(img_paths):\n",
    "        # load image\n",
    "        img_path = os.path.join(img_dir, img_path)\n",
    "        print(img_path)\n",
    "        tmp_img = load_image(img_path)\n",
    "\n",
    "        # calculate fuzz image\n",
    "        gen_img = dlfuzz.generate_fuzzy_image(tmp_img)\n",
    "\n",
    "        # save image\n",
    "        # mannual_label = int(img_name.split('_')[1])\n",
    "        gen_img_deprocessed = deprocess_image(gen_img.numpy())\n",
    "        img_name = img_paths[i].split('.')[0]\n",
    "        save_img = save_dir + img_name + '_' + str(get_signature()) + '.png'\n",
    "        Image.fromarray(gen_img_deprocessed).save(save_img)# -*- coding: utf-8 -*-"
   ]
  },
  {
   "cell_type": "code",
   "execution_count": null,
   "id": "ef2feb7d",
   "metadata": {},
   "outputs": [],
   "source": []
  }
 ],
 "metadata": {
  "kernelspec": {
   "display_name": "bachelor",
   "language": "python",
   "name": "bachelor"
  },
  "language_info": {
   "codemirror_mode": {
    "name": "ipython",
    "version": 3
   },
   "file_extension": ".py",
   "mimetype": "text/x-python",
   "name": "python",
   "nbconvert_exporter": "python",
   "pygments_lexer": "ipython3",
   "version": "3.10.13"
  }
 },
 "nbformat": 4,
 "nbformat_minor": 5
}
